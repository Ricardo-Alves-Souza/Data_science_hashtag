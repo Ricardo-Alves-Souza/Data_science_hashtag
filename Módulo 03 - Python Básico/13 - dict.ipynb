{
 "cells": [
  {
   "cell_type": "markdown",
   "metadata": {},
   "source": [
    "# Outras estruturas de dados\n",
    "\n",
    "Imagine que você tem uma coleção de objetos - como um monte de livros. A maneira como você organiza esses livros pode variar dependendo do que você quer fazer com eles. Se você os empilha um sobre o outro, é fácil colocar um novo livro no topo ou tirar o livro do topo, mas é difícil encontrar um livro específico no meio da pilha. Se você os organiza em uma prateleira, por ordem alfabética, fica mais fácil encontrar um livro específico, mas pode ser mais demorado adicionar um novo livro se isso significar ter que mover outros livros para manter a ordem.\n",
    "\n",
    "\"Estrutura de dados\" é um termo usado em programação para descrever diferentes maneiras de organizar e armazenar dados (como números, textos, ou até mesmo outros conjuntos de dados) de forma que possamos eficientemente realizar operações sobre esses dados. Cada estrutura de dados tem seus próprios métodos para adicionar, remover e acessar dados, e cada uma é útil para diferentes tipos de tarefas.\n",
    "\n",
    "Por exemplo:\n",
    "- **Listas**: São como prateleiras de livros onde você armazena itens em uma ordem específica.\n",
    "- **Dicionários**: São como um dicionário de palavras, onde cada palavra (chave) está associada a uma definição (valor).\n",
    "\n",
    "Cada uma dessas estruturas é útil para diferentes tipos de problemas em programação. Por exemplo, listas são boas quando você precisa manter os itens em uma ordem específica, enquanto dicionários são úteis quando você quer associar pares de valores de uma maneira fácil de procurar. A escolha da estrutura de dados correta pode tornar seu código mais eficiente e mais fácil de entender."
   ]
  },
  {
   "cell_type": "markdown",
   "metadata": {},
   "source": [
    "## Dicionários"
   ]
  },
  {
   "cell_type": "markdown",
   "metadata": {},
   "source": [
    "Os dicionários em Python são estruturas de dados que armazenam pares de chave-valor, sendo extremamente úteis para organizar e acessar dados de forma eficiente.\n",
    "\n",
    "**Características Básicas de um Dicionário:**\n",
    "\n",
    "- **Pares Chave-Valor**: Cada elemento em um dicionário é um par de uma chave e um valor associado. As chaves são únicas dentro de um dicionário, enquanto os valores podem ser duplicados.\n",
    "- **Acesso Rápido**: Os dicionários permitem o acesso rápido a um valor quando você conhece a chave. Isso os torna ideais para situações onde você precisa buscar dados frequentemente.\n",
    "- **Flexibilidade**: As chaves geralmente são strings ou números, mas podem ser de qualquer tipo imutável. Os valores podem ser de qualquer tipo de dado.\n"
   ]
  },
  {
   "cell_type": "code",
   "execution_count": null,
   "metadata": {},
   "outputs": [],
   "source": [
    "empresa = {\n",
    "    \"nome\": \"Twitter\",\n",
    "    \"setor\": \"Tecnologia\",\n",
    "}"
   ]
  },
  {
   "cell_type": "code",
   "execution_count": null,
   "metadata": {},
   "outputs": [],
   "source": [
    "empresa[\"nome\"]"
   ]
  },
  {
   "cell_type": "code",
   "execution_count": null,
   "metadata": {},
   "outputs": [],
   "source": [
    "empresa[\"setor\"]"
   ]
  },
  {
   "cell_type": "code",
   "execution_count": null,
   "metadata": {},
   "outputs": [],
   "source": [
    "empresa[\"nome\"] = \"X\""
   ]
  },
  {
   "cell_type": "code",
   "execution_count": null,
   "metadata": {},
   "outputs": [],
   "source": [
    "empresa[\"nome\"]"
   ]
  },
  {
   "cell_type": "code",
   "execution_count": null,
   "metadata": {},
   "outputs": [],
   "source": [
    "empresa[\"dono\"] = \"Elon Musk\""
   ]
  },
  {
   "cell_type": "code",
   "execution_count": null,
   "metadata": {},
   "outputs": [],
   "source": [
    "empresa"
   ]
  },
  {
   "cell_type": "code",
   "execution_count": null,
   "metadata": {},
   "outputs": [],
   "source": [
    "empresa[\"ano\"]"
   ]
  },
  {
   "cell_type": "code",
   "execution_count": null,
   "metadata": {},
   "outputs": [],
   "source": [
    "\"ano\" in empresa"
   ]
  },
  {
   "cell_type": "code",
   "execution_count": null,
   "metadata": {},
   "outputs": [],
   "source": [
    "\"nome\" in empresa"
   ]
  },
  {
   "cell_type": "code",
   "execution_count": null,
   "metadata": {},
   "outputs": [],
   "source": [
    "\"Elon Musk\" in empresa"
   ]
  },
  {
   "cell_type": "code",
   "execution_count": null,
   "metadata": {},
   "outputs": [],
   "source": [
    "empresa.get(\"ano\")"
   ]
  },
  {
   "cell_type": "code",
   "execution_count": null,
   "metadata": {},
   "outputs": [],
   "source": [
    "print(empresa.get(\"ano\"))"
   ]
  },
  {
   "cell_type": "code",
   "execution_count": null,
   "metadata": {},
   "outputs": [],
   "source": [
    "empresa.get(\"ano\", 0)"
   ]
  },
  {
   "cell_type": "code",
   "execution_count": null,
   "metadata": {},
   "outputs": [],
   "source": [
    "None"
   ]
  },
  {
   "cell_type": "code",
   "execution_count": null,
   "metadata": {},
   "outputs": [],
   "source": [
    "print(None)"
   ]
  },
  {
   "cell_type": "code",
   "execution_count": null,
   "metadata": {},
   "outputs": [],
   "source": [
    "type(None)"
   ]
  },
  {
   "cell_type": "markdown",
   "metadata": {},
   "source": [
    "`None` em Python é um conceito importante e serve como um valor especial que é frequentemente usado para representar a \"ausência\" de um valor ou a \"nulidade\" em programação. \n",
    "\n",
    "1. **O que é None**: `None` é um valor literal em Python que representa a \"nada\". É um tipo de dado próprio do Python, conhecido como `NoneType`. Você pode pensar em `None` como o equivalente a \"nada\" ou \"vazio\".\n",
    "\n",
    "2. **None vs False vs Zero vs Vazio**: `None` é diferente de `False`, 0 ou uma string vazia (`\"\"`). `False` é um valor booleano que representa a falsidade, 0 é um número inteiro e `\"\"` é uma string vazia. `None` não é equivalente a nenhum destes; ele representa a ausência de um valor.\n"
   ]
  },
  {
   "cell_type": "code",
   "execution_count": null,
   "metadata": {},
   "outputs": [],
   "source": [
    "empresa.keys()"
   ]
  },
  {
   "cell_type": "code",
   "execution_count": null,
   "metadata": {},
   "outputs": [],
   "source": [
    "empresa.values()"
   ]
  },
  {
   "cell_type": "code",
   "execution_count": null,
   "metadata": {},
   "outputs": [],
   "source": [
    "\"Elon Musk\" in empresa.values()"
   ]
  },
  {
   "cell_type": "code",
   "execution_count": null,
   "metadata": {},
   "outputs": [],
   "source": [
    "empresa.items()"
   ]
  },
  {
   "cell_type": "code",
   "execution_count": null,
   "metadata": {},
   "outputs": [],
   "source": [
    "dict([(\"nome\", \"X\"), (\"setor\", \"Tecnologia\")])"
   ]
  },
  {
   "cell_type": "code",
   "execution_count": null,
   "metadata": {},
   "outputs": [],
   "source": [
    "dict(((\"nome\", \"X\"), (\"setor\", \"Tecnologia\")))"
   ]
  },
  {
   "cell_type": "markdown",
   "metadata": {},
   "source": [
    "### Exemplo de uso de dicionários"
   ]
  },
  {
   "cell_type": "code",
   "execution_count": null,
   "metadata": {},
   "outputs": [],
   "source": [
    "inventario = {\n",
    "    \"camiseta\": {\"quantidade\": 100, \"preco\": 50},\n",
    "    \"calca\": {\"quantidade\": 50, \"preco\": 80}\n",
    "}"
   ]
  },
  {
   "cell_type": "code",
   "execution_count": null,
   "metadata": {},
   "outputs": [],
   "source": [
    "inventario[\"camiseta\"]"
   ]
  },
  {
   "cell_type": "code",
   "execution_count": null,
   "metadata": {},
   "outputs": [],
   "source": [
    "inventario[\"camiseta\"][\"quantidade\"]"
   ]
  },
  {
   "cell_type": "code",
   "execution_count": null,
   "metadata": {},
   "outputs": [],
   "source": [
    "inventario.get(\"camiseta\")"
   ]
  },
  {
   "cell_type": "code",
   "execution_count": null,
   "metadata": {},
   "outputs": [],
   "source": [
    "inventario.get(\"camiseta\").get(\"quantidade\")"
   ]
  },
  {
   "cell_type": "code",
   "execution_count": null,
   "metadata": {},
   "outputs": [],
   "source": [
    "inventario[\"camiseta\"].get(\"desconto\", 0)"
   ]
  },
  {
   "cell_type": "code",
   "execution_count": null,
   "metadata": {},
   "outputs": [],
   "source": [
    "inventario[\"camiseta\"][\"desconto\"] = 5"
   ]
  },
  {
   "cell_type": "code",
   "execution_count": null,
   "metadata": {},
   "outputs": [],
   "source": [
    "inventario[\"camiseta\"].get(\"desconto\", 0)"
   ]
  },
  {
   "cell_type": "code",
   "execution_count": null,
   "metadata": {},
   "outputs": [],
   "source": [
    "inventario[\"calca\"].get(\"desconto\", 0)"
   ]
  },
  {
   "cell_type": "code",
   "execution_count": null,
   "metadata": {},
   "outputs": [],
   "source": []
  },
  {
   "cell_type": "code",
   "execution_count": null,
   "metadata": {},
   "outputs": [],
   "source": []
  },
  {
   "cell_type": "code",
   "execution_count": null,
   "metadata": {},
   "outputs": [],
   "source": []
  },
  {
   "cell_type": "code",
   "execution_count": null,
   "metadata": {},
   "outputs": [],
   "source": [
    "permissoes = {\"Ana\": [\"admin\", \"editor\"], \"Bruno\": [\"usuario\"]}"
   ]
  },
  {
   "cell_type": "code",
   "execution_count": null,
   "metadata": {},
   "outputs": [],
   "source": [
    "permissoes[\"Ana\"]"
   ]
  },
  {
   "cell_type": "code",
   "execution_count": null,
   "metadata": {},
   "outputs": [],
   "source": [
    "\"admin\" in permissoes[\"Ana\"]"
   ]
  },
  {
   "cell_type": "code",
   "execution_count": null,
   "metadata": {},
   "outputs": [],
   "source": [
    "\"admin\" in permissoes[\"Bruno\"]"
   ]
  },
  {
   "cell_type": "code",
   "execution_count": null,
   "metadata": {},
   "outputs": [],
   "source": [
    "permissoes[\"Bruno\"].append(\"editor\")"
   ]
  },
  {
   "cell_type": "code",
   "execution_count": null,
   "metadata": {},
   "outputs": [],
   "source": [
    "permissoes[\"Bruno\"]"
   ]
  },
  {
   "cell_type": "code",
   "execution_count": null,
   "metadata": {},
   "outputs": [],
   "source": [
    "\"editor\" in permissoes[\"Bruno\"]"
   ]
  }
 ],
 "metadata": {
  "kernelspec": {
   "display_name": "Python 3",
   "language": "python",
   "name": "python3"
  },
  "language_info": {
   "codemirror_mode": {
    "name": "ipython",
    "version": 3
   },
   "file_extension": ".py",
   "mimetype": "text/x-python",
   "name": "python",
   "nbconvert_exporter": "python",
   "pygments_lexer": "ipython3",
   "version": "3.13.0"
  }
 },
 "nbformat": 4,
 "nbformat_minor": 4
}
