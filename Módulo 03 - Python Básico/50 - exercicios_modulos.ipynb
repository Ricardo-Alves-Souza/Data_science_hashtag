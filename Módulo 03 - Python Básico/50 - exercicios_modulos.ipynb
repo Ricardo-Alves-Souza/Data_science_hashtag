{
 "cells": [
  {
   "cell_type": "markdown",
   "metadata": {},
   "source": [
    "# Exercício 1\n",
    "\n",
    "Dado um parágrafo `paragrafo`, conte quantas vezes cada palavra única aparece. Ignore a diferença entre maiúsculas e minúsculas. Encapsule o código em uma função chamada `conta_palavras` que retorna um `Counter` onde as chaves são as palavras únicas e os valores são a quantidade de vezes que a palavra aparece.\n",
    "\n",
    "Dica: pesquise o módulo `collections` e a classe `Counter` presente neste módulo."
   ]
  },
  {
   "cell_type": "code",
   "execution_count": null,
   "metadata": {},
   "outputs": [],
   "source": [
    "paragrafo = \"Um cientista de dados precisa ter uma boa base técnica. Dados são importantes.\""
   ]
  },
  {
   "cell_type": "code",
   "execution_count": null,
   "metadata": {},
   "outputs": [],
   "source": [
    "from collections import Counter\n",
    "\n",
    "def conta_palavras(texto):\n",
    "    palavras = texto.lower().replace(\".\", \"\").split()\n",
    "    contagem = Counter(palavras)\n",
    "    return contagem"
   ]
  },
  {
   "cell_type": "code",
   "execution_count": null,
   "metadata": {},
   "outputs": [],
   "source": [
    "contagem = conta_palavras(paragrafo)\n",
    "contagem"
   ]
  },
  {
   "cell_type": "code",
   "execution_count": null,
   "metadata": {},
   "outputs": [],
   "source": [
    "contagem.most_common(1)"
   ]
  },
  {
   "cell_type": "markdown",
   "metadata": {},
   "source": [
    "# Exercício 2"
   ]
  },
  {
   "cell_type": "markdown",
   "metadata": {},
   "source": [
    " Gere uma lista de 30 números aleatórios, entre 100 e 2500, representando vendas diárias e calcule a média e a mediana de vendas. Use o módulo `random` e o módulo `statistics`."
   ]
  },
  {
   "cell_type": "code",
   "execution_count": null,
   "metadata": {},
   "outputs": [],
   "source": [
    "import random\n",
    "import statistics\n",
    "\n",
    "vendas_diarias = [random.randint(100, 2500) for _ in range(30)]\n",
    "\n",
    "media = statistics.mean(vendas_diarias)\n",
    "mediana = statistics.median(vendas_diarias)"
   ]
  },
  {
   "cell_type": "code",
   "execution_count": null,
   "metadata": {},
   "outputs": [],
   "source": [
    "vendas_diarias"
   ]
  },
  {
   "cell_type": "code",
   "execution_count": null,
   "metadata": {},
   "outputs": [],
   "source": [
    "media"
   ]
  },
  {
   "cell_type": "code",
   "execution_count": null,
   "metadata": {},
   "outputs": [],
   "source": [
    "mediana"
   ]
  },
  {
   "cell_type": "markdown",
   "metadata": {},
   "source": [
    "## Exercício 3"
   ]
  },
  {
   "cell_type": "markdown",
   "metadata": {},
   "source": [
    "Escreva uma função gerar_email_corporativo que recebe um nome completo e retorna um email no formato \"nome.ultimonome@empresa.com\". Considere na solução nomes com acentos e espaços."
   ]
  },
  {
   "cell_type": "markdown",
   "metadata": {},
   "source": [
    "Dica: veja o módulo `unidecode` para remover acentos. https://github.com/avian2/unidecode"
   ]
  },
  {
   "cell_type": "code",
   "execution_count": null,
   "metadata": {},
   "outputs": [],
   "source": [
    "from unidecode import unidecode\n",
    "\n",
    "def gerar_email_corporativo(nome_completo):\n",
    "    \"\"\"Gera um e-mail corporativo a partir do nome completo de um funcionário.\n",
    "\n",
    "    Parameters\n",
    "    ----------\n",
    "    nome_completo : str\n",
    "        Nome completo do funcionário.\n",
    "\n",
    "    Returns\n",
    "    -------\n",
    "    str\n",
    "        E-mail corporativo.\n",
    "    \"\"\"\n",
    "    partes_nome = nome_completo.split()\n",
    "    email = f\"{unidecode(partes_nome[0])}.{unidecode(partes_nome[-1])}@empresa.com\"\n",
    "    return email.lower()\n",
    "\n",
    "# Teste da função\n",
    "gerar_email_corporativo(\"João Souza Silva\")"
   ]
  }
 ],
 "metadata": {
  "kernelspec": {
   "display_name": "base",
   "language": "python",
   "name": "python3"
  },
  "language_info": {
   "codemirror_mode": {
    "name": "ipython",
    "version": 3
   },
   "file_extension": ".py",
   "mimetype": "text/x-python",
   "name": "python",
   "nbconvert_exporter": "python",
   "pygments_lexer": "ipython3",
   "version": "3.11.5"
  }
 },
 "nbformat": 4,
 "nbformat_minor": 2
}
