{
 "cells": [
  {
   "cell_type": "markdown",
   "metadata": {
    "id": "0pH6CZQorBPd"
   },
   "source": [
    "# Classes"
   ]
  },
  {
   "cell_type": "markdown",
   "metadata": {
    "id": "o0PhrRHrrBPg"
   },
   "source": [
    "## O que é uma Classe\n",
    "\n",
    "Uma classe pode ser pensada como um \"modelo\" ou \"plano\" para criar objetos. Um objeto é uma instância de uma classe, contendo dados reais. Imagine a classe como um formulário: cada objeto criado a partir dessa classe é como um formulário preenchido.\n",
    "\n",
    "## Componentes de uma Classe\n",
    "\n",
    "- **Atributos**: São variáveis que armazenam dados relacionados à classe. Eles representam as características do objeto. Por exemplo, em uma classe `Carro`, os atributos podem ser `marca`, `modelo` e `ano`.\n",
    "- **Métodos**: São funções definidas dentro de uma classe. Eles descrevem os comportamentos ou ações que os objetos da classe podem realizar. Por exemplo, um método `acelerar` em uma classe `Carro` pode aumentar a velocidade do carro.\n",
    "\n",
    "## Por que Usar Classes\n",
    "\n",
    "1. **Organização**: As classes ajudam a organizar o código, especialmente em programas maiores. Elas permitem agrupar dados e funcionalidades relacionadas, tornando o código mais modular e fácil de entender.\n",
    "2. **Reutilização**: Uma vez definida, uma classe pode ser usada para criar muitos objetos. Isso evita a repetição de código e facilita a manutenção.\n",
    "3. **Abstração**: Classes permitem abstrair e simplificar problemas complexos, modelando entidades do mundo real ou conceitos.\n",
    "\n",
    "## Nomeando Classes\n",
    "\n",
    "Por convenção, os nomes de classes em Python começam com uma letra maiúscula. Se o nome da classe for composto por várias palavras, cada palavra deve começar com uma letra maiúscula (PascalCase). Por exemplo, `Carro`, `Pessoa`, `ContaBancaria`.\n",
    "\n",
    "## Exemplo Simples\n",
    "\n",
    "Vamos considerar um exemplo simples de uma classe `Carro`:\n",
    "\n",
    "```python\n",
    "class Carro:\n",
    "    def __init__(self, marca, modelo, ano):\n",
    "        self.marca = marca\n",
    "        self.modelo = modelo\n",
    "        self.ano = ano\n",
    "\n",
    "    def exibir_informacoes(self):\n",
    "        print(f\"Carro: {self.marca} {self.modelo}, Ano: {self.ano}\")\n",
    "```\n",
    "\n",
    "Neste exemplo:\n",
    "- `Carro` é a classe.\n",
    "- `__init__` é um método especial chamado construtor, usado para inicializar (criar) um novo objeto a partir da classe `Carro`, com `marca`, `modelo` e `ano` como atributos.\n",
    "- `exibir_informacoes` é um método que imprime as informações do carro.\n",
    "\n",
    "## Criando e Usando uma Classe\n",
    "\n",
    "```python\n",
    "corolla = Carro(\"Toyota\", \"Corolla\", 2020)\n",
    "corolla.exibir_informacoes()\n",
    "```\n",
    "\n",
    "- Aqui, `corolla` é um objeto da classe `Carro`.\n",
    "- O método `exibir_informacoes` é chamado para `meu_carro`, mostrando os detalhes do carro.\n"
   ]
  },
  {
   "cell_type": "code",
   "execution_count": null,
   "metadata": {
    "id": "y0oUzWbFrBPh"
   },
   "outputs": [],
   "source": [
    "class Carro:\n",
    "\n",
    "    def __init__(self, marca, modelo, ano):\n",
    "        self.marca = marca\n",
    "        self.modelo = modelo\n",
    "        self.ano = ano\n",
    "\n",
    "    def exibir_informacoes(self):\n",
    "        print(f\"Carro: {self.marca} {self.modelo}, Ano: {self.ano}\")"
   ]
  },
  {
   "cell_type": "code",
   "execution_count": null,
   "metadata": {
    "id": "WeEPQe3IrBPi",
    "outputId": "457feccc-9626-4bf8-9de0-d4c286ecbe97"
   },
   "outputs": [],
   "source": [
    "corolla = Carro(\"Toyota\", \"Corolla\", 2020)"
   ]
  },
  {
   "cell_type": "code",
   "execution_count": null,
   "metadata": {
    "id": "5_dA0p1PrBPi",
    "outputId": "c8076f6e-af12-40f8-db78-fc272e64c9ae"
   },
   "outputs": [],
   "source": [
    "corolla.marca"
   ]
  },
  {
   "cell_type": "code",
   "execution_count": null,
   "metadata": {
    "id": "ZlLUcg1drBPj",
    "outputId": "32867139-d1b3-4947-d6d3-fa76694717b4"
   },
   "outputs": [],
   "source": [
    "corolla.modelo"
   ]
  },
  {
   "cell_type": "code",
   "execution_count": null,
   "metadata": {
    "id": "AMnsxi82rBPj",
    "outputId": "591d7d47-ab0f-423e-a7c3-f69ed8def70d"
   },
   "outputs": [],
   "source": [
    "corolla.ano"
   ]
  },
  {
   "cell_type": "code",
   "execution_count": null,
   "metadata": {
    "id": "ADwUjhyerBPk",
    "outputId": "ff25b82d-29f6-4540-8e8c-bcbffcd04b71"
   },
   "outputs": [],
   "source": [
    "corolla.exibir_informacoes()"
   ]
  }
 ],
 "metadata": {
  "colab": {
   "provenance": []
  },
  "kernelspec": {
   "display_name": "base",
   "language": "python",
   "name": "python3"
  },
  "language_info": {
   "codemirror_mode": {
    "name": "ipython",
    "version": 3
   },
   "file_extension": ".py",
   "mimetype": "text/x-python",
   "name": "python",
   "nbconvert_exporter": "python",
   "pygments_lexer": "ipython3",
   "version": "3.10.13"
  }
 },
 "nbformat": 4,
 "nbformat_minor": 0
}
