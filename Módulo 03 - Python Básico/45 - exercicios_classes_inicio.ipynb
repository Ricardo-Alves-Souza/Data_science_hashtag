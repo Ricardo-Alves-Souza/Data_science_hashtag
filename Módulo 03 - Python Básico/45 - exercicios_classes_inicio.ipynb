{
 "cells": [
  {
   "cell_type": "markdown",
   "metadata": {},
   "source": [
    "# Exercício 1"
   ]
  },
  {
   "cell_type": "markdown",
   "metadata": {},
   "source": [
    "Crie uma classe `Cliente` para um e-commerce que armazene o nome do cliente, seu email e compras realizadas (uma lista de valores, inicializada vazia - não é parâmetro do método de inicialização). A classe deve ter métodos para adicionar uma nova compra e calcular o total gasto."
   ]
  },
  {
   "cell_type": "code",
   "execution_count": null,
   "metadata": {},
   "outputs": [],
   "source": [
    "from random import randint\n",
    "\n",
    "class Cliente:\n",
    "\n",
    "    def __init__(self, nome, email):\n",
    "        self.nome = nome\n",
    "        self.email = email\n",
    "        self.compras = []\n",
    "\n",
    "    def adicionar_nova_compra(self, valor):\n",
    "        self.compras.append((valor))\n",
    "\n",
    "    def calcular_total(self):\n",
    "        return f'Valor total: R$ {sum(self.compras):_.2f}'\n",
    "        \n",
    "ricardo = Cliente('Ricardo Alves', 'Ricardo@gmail.com')\n",
    "\n",
    "valores = [randint(100, 1000) for i in range(20)]\n",
    "\n",
    "for venda in valores:\n",
    "    ricardo.adicionar_nova_compra(venda)\n",
    "\n",
    "ricardo.calcular_total()"
   ]
  },
  {
   "cell_type": "markdown",
   "metadata": {},
   "source": [
    "# Exercício 2"
   ]
  },
  {
   "cell_type": "markdown",
   "metadata": {},
   "source": [
    "Crie uma classe `AnaliseVendas` que armazene os dados de vendas mensais (uma lista de números, inicializada vazia - não é parâmetro do método de inicialização). A classe deve ter métodos para adicionar vendas, calcular a média de vendas e encontrar o mês com a maior venda."
   ]
  },
  {
   "cell_type": "code",
   "execution_count": null,
   "metadata": {},
   "outputs": [],
   "source": [
    "from random import randint\n",
    "\n",
    "class AnalisarVendas():\n",
    "\n",
    "    def __init__(self):\n",
    "        self.vendas = []\n",
    "        self.meses = ['Janeiro', 'Fevereiro', 'Março', 'Abril', 'Maio', 'Junho', \n",
    "                      'Julho', 'Agosto', 'Setembro', 'Outubro', 'Novembro', 'Dezembro']\n",
    "\n",
    "    def adicionar_vendas(self, valor):\n",
    "        self.vendas.append(valor)\n",
    "    \n",
    "    def calcular_media(self):\n",
    "        try:\n",
    "            media = sum(self.vendas) / len(self.vendas)\n",
    "            return f'Valor médio de vendas: R$ {media:_.2f}'\n",
    "        except ZeroDivisionError:\n",
    "            return 'Nenhuma venda cadastrada!'\n",
    "    \n",
    "    def mes_maior_venda(self):\n",
    "        try:\n",
    "            valor_max = max(self.vendas)\n",
    "            mes = self.vendas.index(valor_max)\n",
    "            return f'Mês de maior venda: {self.meses[mes]}. Valor: R$ {valor_max:_.2f}'\n",
    "        except ValueError:\n",
    "            return 'Nenhuma venda cadastrada!'\n",
    "\n",
    "valor_vendas = [randint(10_000, 150_000) for i in range(12)]\n",
    "\n",
    "vendedor = AnalisarVendas()\n",
    "\n",
    "for i in valor_vendas:\n",
    "    vendedor.adicionar_vendas(i)\n",
    "\n",
    "print(vendedor.calcular_media())\n",
    "print(vendedor.mes_maior_venda())"
   ]
  }
 ],
 "metadata": {
  "kernelspec": {
   "display_name": "Python 3",
   "language": "python",
   "name": "python3"
  },
  "language_info": {
   "codemirror_mode": {
    "name": "ipython",
    "version": 3
   },
   "file_extension": ".py",
   "mimetype": "text/x-python",
   "name": "python",
   "nbconvert_exporter": "python",
   "pygments_lexer": "ipython3",
   "version": "3.13.0"
  }
 },
 "nbformat": 4,
 "nbformat_minor": 4
}
