{
 "cells": [
  {
   "cell_type": "markdown",
   "id": "6d0d9e88-3290-4b8e-a98f-ce304866627c",
   "metadata": {},
   "source": [
    "# Variáveis"
   ]
  },
  {
   "cell_type": "code",
   "execution_count": null,
   "id": "3938df1a-d2a0-421b-ba88-6416075d448c",
   "metadata": {},
   "outputs": [],
   "source": [
    "salario_base = 1500\n",
    "porcentagem_comissao = 0.05\n",
    "valor_vendas = 500"
   ]
  },
  {
   "cell_type": "code",
   "execution_count": null,
   "id": "ff2ceb75",
   "metadata": {},
   "outputs": [],
   "source": [
    "salario_vendas = porcentagem_comissao * valor_vendas\n",
    "salario_vendas"
   ]
  },
  {
   "cell_type": "code",
   "execution_count": null,
   "id": "0e6fcbb2",
   "metadata": {},
   "outputs": [],
   "source": [
    "salario_final = salario_base + salario_vendas\n",
    "salario_final"
   ]
  },
  {
   "cell_type": "code",
   "execution_count": null,
   "id": "dc50896b",
   "metadata": {},
   "outputs": [],
   "source": [
    "salario_base = salario_base + 200\n",
    "salario_base"
   ]
  },
  {
   "cell_type": "code",
   "execution_count": null,
   "id": "02cc6fd4",
   "metadata": {},
   "outputs": [],
   "source": [
    "salario_final"
   ]
  },
  {
   "cell_type": "code",
   "execution_count": null,
   "id": "b4442e24",
   "metadata": {},
   "outputs": [],
   "source": [
    "salario_final = salario_base + salario_vendas\n",
    "salario_final"
   ]
  },
  {
   "cell_type": "code",
   "execution_count": null,
   "id": "f511daa2",
   "metadata": {},
   "outputs": [],
   "source": [
    "# outra forma de incrementar o valor de uma variável\n",
    "salario_base += 200\n",
    "salario_base"
   ]
  },
  {
   "cell_type": "code",
   "execution_count": null,
   "id": "491cfade",
   "metadata": {},
   "outputs": [],
   "source": [
    "# diminuindo a percentagem de comissão\n",
    "porcentagem_comissao -= 0.01\n",
    "porcentagem_comissao"
   ]
  },
  {
   "cell_type": "code",
   "execution_count": null,
   "id": "81039653",
   "metadata": {},
   "outputs": [],
   "source": [
    "salario_vendas = porcentagem_comissao * valor_vendas\n",
    "salario_vendas"
   ]
  },
  {
   "cell_type": "code",
   "execution_count": null,
   "id": "f565e3b7",
   "metadata": {},
   "outputs": [],
   "source": [
    "salario_final = salario_base + salario_vendas\n",
    "salario_final"
   ]
  },
  {
   "cell_type": "code",
   "execution_count": null,
   "id": "efa7e185",
   "metadata": {},
   "outputs": [],
   "source": []
  },
  {
   "cell_type": "code",
   "execution_count": null,
   "id": "d0adf4c1",
   "metadata": {},
   "outputs": [],
   "source": [
    "exemplo = 3 * 5\n",
    "exemplo"
   ]
  },
  {
   "cell_type": "code",
   "execution_count": null,
   "id": "2af0ffef",
   "metadata": {},
   "outputs": [],
   "source": [
    "exemplo *= 2\n",
    "exemplo"
   ]
  },
  {
   "cell_type": "code",
   "execution_count": null,
   "id": "17a83dc2",
   "metadata": {},
   "outputs": [],
   "source": [
    "exemplo /= 3\n",
    "exemplo"
   ]
  },
  {
   "cell_type": "markdown",
   "id": "cfa61a23",
   "metadata": {},
   "source": [
    "## Como nomear variáveis\n",
    "\n",
    "- Não pode começar com números\n",
    "- Não pode conter espaços\n",
    "- Não pode conter símbolos\n",
    "- Evite acentos\n",
    "- Pode conter underscore\n",
    "- Pode conter letras maiúsculas e minúsculas (case sensitive)\n",
    "  - No entanto, não é recomendado usar letras maiúsculas no início do nome da variável (classes)\n",
    "  - Todas as letras maiúsculas é usado para indicar constantes\n",
    "- Não pode ser uma palavra reservada\n",
    "- Deve ser um nome significativo\n",
    "- Evite ser muito grande"
   ]
  }
 ],
 "metadata": {
  "kernelspec": {
   "display_name": "Python 3 (ipykernel)",
   "language": "python",
   "name": "python3"
  },
  "language_info": {
   "codemirror_mode": {
    "name": "ipython",
    "version": 3
   },
   "file_extension": ".py",
   "mimetype": "text/x-python",
   "name": "python",
   "nbconvert_exporter": "python",
   "pygments_lexer": "ipython3",
   "version": "3.10.13"
  }
 },
 "nbformat": 4,
 "nbformat_minor": 5
}
