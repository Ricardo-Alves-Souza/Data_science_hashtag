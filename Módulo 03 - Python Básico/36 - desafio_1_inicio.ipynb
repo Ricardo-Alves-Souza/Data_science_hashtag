{
 "cells": [
  {
   "cell_type": "markdown",
   "metadata": {},
   "source": [
    "# Desafio"
   ]
  },
  {
   "cell_type": "markdown",
   "metadata": {},
   "source": [
    "Escreva um programa em Python que verifique se uma senha fornecida como uma string cumpre os seguintes critérios de segurança:\n",
    "\n",
    "- Tem pelo menos 8 caracteres.\n",
    "- Contém pelo menos uma letra maiúscula.\n",
    "- Contém pelo menos uma letra minúscula.\n",
    "- Contém pelo menos um número.\n",
    "- Contém pelo menos um caractere especial (considere caracteres especiais como `!@#$%^&*()-_=+`).\n",
    "\n",
    "Se a senha atender a todos os critérios, o programa deve imprimir `\"Senha válida\"`. Caso contrário, deve imprimir `\"Senha inválida\"`.\n",
    "\n",
    "Dica: pesquise pelos métodos  `isupper`, `islower`, `isdigit` de strings."
   ]
  },
  {
   "cell_type": "code",
   "execution_count": null,
   "metadata": {},
   "outputs": [],
   "source": [
    "senha = \"Senha@123\"\n",
    "\n",
    "tem_oito_caracteres = len(senha) >= 8\n",
    "tem_letra_maiuscula = False\n",
    "tem_letra_minuscula = False\n",
    "tem_numero = False\n",
    "tem_caractere_especial = False\n",
    "\n",
    "caracteres_especiais = '!@#$%&*())-_=+'\n",
    "\n",
    "for caracter in senha:\n",
    "    if caracter.isupper():\n",
    "        tem_letra_maiuscula = True\n",
    "    elif caracter.islower():\n",
    "        tem_letra_minuscula = True\n",
    "    elif caracter.isnumeric():\n",
    "        tem_numero = True\n",
    "    elif caracter in caracteres_especiais:\n",
    "        tem_caractere_especial = True\n",
    "\n",
    "if tem_oito_caracteres and tem_letra_maiuscula and tem_letra_minuscula and tem_numero and tem_caractere_especial:\n",
    "    print('Senha Válida')\n",
    "else:\n",
    "    print('Senha Inválida')"
   ]
  },
  {
   "cell_type": "code",
   "execution_count": null,
   "metadata": {},
   "outputs": [],
   "source": [
    "senha = \"Senha@123\"\n",
    "\n",
    "caracteres_especiais = '!@#$%&*())-_=+'\n",
    "\n",
    "tem_oito_caracteres = len(senha) >= 8\n",
    "tem_letra_maiuscula = any([c.isupper() for c in senha])\n",
    "tem_letra_minuscula = any(c.lower() for c in senha)\n",
    "tem_numero = any([c.isnumeric() for c in senha])\n",
    "tem_caractere_especial = any([c in caracteres_especiais for c in senha])\n",
    "\n",
    "if all([tem_oito_caracteres, tem_letra_maiuscula, tem_letra_minuscula, tem_numero, tem_caractere_especial]):\n",
    "    print('Senha Válida')\n",
    "else:\n",
    "    print('Senha Inválida')"
   ]
  }
 ],
 "metadata": {
  "kernelspec": {
   "display_name": "Python 3",
   "language": "python",
   "name": "python3"
  },
  "language_info": {
   "codemirror_mode": {
    "name": "ipython",
    "version": 3
   },
   "file_extension": ".py",
   "mimetype": "text/x-python",
   "name": "python",
   "nbconvert_exporter": "python",
   "pygments_lexer": "ipython3",
   "version": "3.13.0"
  }
 },
 "nbformat": 4,
 "nbformat_minor": 4
}
