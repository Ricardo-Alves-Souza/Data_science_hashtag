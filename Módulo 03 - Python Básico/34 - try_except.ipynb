{
 "cells": [
  {
   "cell_type": "markdown",
   "metadata": {},
   "source": [
    "# Try / except"
   ]
  },
  {
   "cell_type": "markdown",
   "metadata": {},
   "source": [
    "## Exceção\n",
    "\n",
    "- **Definição**: Uma exceção é um erro que ocorre durante a execução do programa. As exceções são problemas que surgem enquanto o programa já está rodando, e não necessariamente indicam que o código está escrito incorretamente.\n",
    "- **Exemplos**:\n",
    "  - Tentar dividir um número por zero.\n",
    "  - Tentar acessar um índice em uma lista que não existe.\n",
    "  - Tentar abrir um arquivo que não existe.\n",
    "- **Como é tratado**: As exceções podem ser tratadas e controladas usando blocos `try-except`. Quando uma exceção é gerada, o fluxo normal do programa é interrompido, e o Python procura por um bloco `except` correspondente para tratar a exceção.\n",
    "\n"
   ]
  },
  {
   "cell_type": "markdown",
   "metadata": {},
   "source": [
    "## Exemplo"
   ]
  },
  {
   "cell_type": "markdown",
   "metadata": {},
   "source": [
    "Suponha que você esteja gerenciando um sistema de caixa de uma loja. Você tem uma lista que registra o valor de várias transações de compra. No entanto, algumas transações podem não ter sido completadas por algum motivo e são registradas como `None` na lista. Para cada transação completa, você deseja gerar um cupom de desconto de 5%. Para as transações que não foram completadas, você precisa emitir um aviso de \"Compra Incompleta\".\n"
   ]
  },
  {
   "cell_type": "code",
   "execution_count": null,
   "metadata": {},
   "outputs": [],
   "source": [
    "None * 0.05"
   ]
  },
  {
   "cell_type": "code",
   "execution_count": null,
   "metadata": {},
   "outputs": [],
   "source": [
    "transacoes = [150.0, 200.0, None, 350.0, None, 500.0]\n",
    "\n",
    "for i, valor in enumerate(transacoes, start=1):\n",
    "    try:\n",
    "        desconto = valor * 0.05\n",
    "        print(f\"Transação {i}: Compra de R$ {valor:.2f}. Cupom de desconto gerado de R$ {desconto:.2f}.\")\n",
    "    except TypeError:\n",
    "        print(f\"Transação {i}: Compra Incompleta.\")"
   ]
  },
  {
   "cell_type": "markdown",
   "metadata": {},
   "source": [
    "## Exemplo"
   ]
  },
  {
   "cell_type": "markdown",
   "metadata": {},
   "source": [
    "Em um sistema de folha de pagamento, o usuário insere as horas trabalhadas e a taxa por hora para calcular o salário. Use try/except para lidar com entradas inválidas."
   ]
  },
  {
   "cell_type": "code",
   "execution_count": null,
   "metadata": {},
   "outputs": [],
   "source": [
    "try:\n",
    "    horas = float(input(\"Horas trabalhadas: \"))\n",
    "    taxa = float(input(\"Taxa por hora: \"))\n",
    "    salario = horas * taxa\n",
    "    print(f\"Salário: R${salario:.2f}\")\n",
    "except ValueError:\n",
    "    print(\"Erro: Por favor, insira um número válido.\")\n"
   ]
  }
 ],
 "metadata": {
  "kernelspec": {
   "display_name": "Python 3 (ipykernel)",
   "language": "python",
   "name": "python3"
  },
  "language_info": {
   "codemirror_mode": {
    "name": "ipython",
    "version": 3
   },
   "file_extension": ".py",
   "mimetype": "text/x-python",
   "name": "python",
   "nbconvert_exporter": "python",
   "pygments_lexer": "ipython3",
   "version": "3.10.13"
  }
 },
 "nbformat": 4,
 "nbformat_minor": 4
}
