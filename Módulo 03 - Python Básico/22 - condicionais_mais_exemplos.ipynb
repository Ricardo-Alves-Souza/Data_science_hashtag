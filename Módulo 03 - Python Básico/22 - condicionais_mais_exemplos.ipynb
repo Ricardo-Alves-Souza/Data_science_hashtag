{
 "cells": [
  {
   "cell_type": "markdown",
   "metadata": {},
   "source": [
    "# Condicionais em Python"
   ]
  },
  {
   "cell_type": "markdown",
   "metadata": {
    "tags": []
   },
   "source": [
    "## Outros exemplos"
   ]
  },
  {
   "cell_type": "markdown",
   "metadata": {},
   "source": [
    "Expressões lógicas com operadores `and`, `or` e `in` podem ser utilizadas:"
   ]
  },
  {
   "cell_type": "code",
   "execution_count": null,
   "metadata": {},
   "outputs": [],
   "source": [
    "vendedor = {\n",
    "    \"nome\": \"João\",\n",
    "    \"idade\": 25,\n",
    "    \"salario_base\": 1_500.00,\n",
    "    \"total_vendas\": 15_000.00,\n",
    "    \"tempo_de_casa\": 5,\n",
    "    \"total_a_receber\": 0.0,\n",
    "    \"nivel\": 2,\n",
    "}\n",
    "\n",
    "vendedor"
   ]
  },
  {
   "cell_type": "markdown",
   "metadata": {},
   "source": [
    "Política de bonificação de funcionários:\n",
    "\n",
    "- Tempo de casa maior ou igual que 5 anos: 20% de bonificação sobre o salário base\n",
    "- Tempo de casa entre 3 e 5 anos e nível maior que 1: 10% de bonificação sobre o salário base\n",
    "- Tempo de casa entre 3 e 5 anos: 5% de bonificação sobre o salário base\n",
    "- Vendas maior ou igual que 50000: 30% de bonificação sobre o salário base\n",
    "- Vendas entre 20000 (inclusive) e 50000 (exclusive): 20% de bonificação sobre o salário base\n",
    "- Vendas entre 10000 (inclusive) e 20000 (exclusive): 10% de bonificação sobre o salário base"
   ]
  },
  {
   "cell_type": "code",
   "execution_count": null,
   "metadata": {},
   "outputs": [],
   "source": [
    "# analise de tempo de casa\n",
    "bonus_tempo = 0\n",
    "\n",
    "if vendedor[\"tempo_de_casa\"] >= 5:\n",
    "    bonus_tempo = 0.20\n",
    "elif (vendedor[\"tempo_de_casa\"] >= 3) and (vendedor[\"nivel\"] > 1):\n",
    "    bonus_tempo = 0.10\n",
    "elif vendedor[\"tempo_de_casa\"] >= 3:\n",
    "    bonus_tempo = 0.05\n",
    "else:\n",
    "    bonus_tempo = 0.0"
   ]
  },
  {
   "cell_type": "code",
   "execution_count": null,
   "metadata": {},
   "outputs": [],
   "source": [
    "bonus_tempo"
   ]
  },
  {
   "cell_type": "code",
   "execution_count": null,
   "metadata": {},
   "outputs": [],
   "source": [
    "# analise de vendas\n",
    "bonus_vendas = 0\n",
    "\n",
    "if vendedor[\"total_vendas\"] >= 50000:\n",
    "    bonus_vendas = 0.30\n",
    "elif vendedor[\"total_vendas\"] >= 20000:\n",
    "    bonus_vendas = 0.20\n",
    "elif vendedor[\"total_vendas\"] >= 10000:\n",
    "    bonus_vendas = 0.10\n",
    "else:\n",
    "    bonus_vendas = 0.0"
   ]
  },
  {
   "cell_type": "code",
   "execution_count": null,
   "metadata": {},
   "outputs": [],
   "source": [
    "bonus_vendas"
   ]
  },
  {
   "cell_type": "code",
   "execution_count": null,
   "metadata": {},
   "outputs": [],
   "source": [
    "vendedor[\"total_a_receber\"] = vendedor[\"salario_base\"] + (vendedor[\"salario_base\"] * bonus_tempo) + (vendedor[\"salario_base\"] * bonus_vendas)\n",
    "vendedor"
   ]
  }
 ],
 "metadata": {
  "kernelspec": {
   "display_name": "Python 3",
   "language": "python",
   "name": "python3"
  },
  "language_info": {
   "codemirror_mode": {
    "name": "ipython",
    "version": 3
   },
   "file_extension": ".py",
   "mimetype": "text/x-python",
   "name": "python",
   "nbconvert_exporter": "python",
   "pygments_lexer": "ipython3",
   "version": "3.13.0"
  },
  "toc-showcode": false,
  "toc-showtags": false
 },
 "nbformat": 4,
 "nbformat_minor": 4
}
