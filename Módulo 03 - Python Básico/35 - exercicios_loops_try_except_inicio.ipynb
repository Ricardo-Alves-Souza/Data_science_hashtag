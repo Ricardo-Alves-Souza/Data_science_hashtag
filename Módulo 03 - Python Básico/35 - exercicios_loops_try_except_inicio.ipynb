{
 "cells": [
  {
   "cell_type": "markdown",
   "metadata": {},
   "source": [
    "# Exercício 1\n",
    "\n",
    "Dada uma lista de produtos vendidos `produtos_vendidos` e um dicionário `estoque` representando a quantidade de cada produto em estoque, verifique quais produtos estão esgotados após as vendas."
   ]
  },
  {
   "cell_type": "code",
   "execution_count": null,
   "metadata": {},
   "outputs": [],
   "source": [
    "# dados para questão\n",
    "produtos_vendidos = [\"caneta\", \"lápis\", \"caneta\", \"borracha\"]\n",
    "estoque = {\"caneta\": 2, \"lápis\": 2, \"borracha\": 1}\n",
    "\n",
    "for produto in produtos_vendidos:\n",
    "    if produto in estoque:\n",
    "        estoque[produto] -= 1\n",
    "\n",
    "produtos_esgotados = [produto for produto, qtde in estoque.items() if qtde == 0]\n",
    "\n",
    "print(produtos_esgotados)"
   ]
  },
  {
   "cell_type": "markdown",
   "metadata": {},
   "source": [
    "# Exercício 2"
   ]
  },
  {
   "cell_type": "markdown",
   "metadata": {},
   "source": [
    "Dado um parágrafo `paragrafo`, conte quantas vezes cada palavra única aparece. Ignore a diferença entre maiúsculas e minúsculas."
   ]
  },
  {
   "cell_type": "code",
   "execution_count": null,
   "metadata": {},
   "outputs": [],
   "source": [
    "# parágrafo para a questão\n",
    "paragrafo = \"Um cientista de dados precisa ter uma boa base técnica. Dados são importantes.\"\n",
    "\n",
    "palavras = paragrafo.casefold().replace('.', '').split()\n",
    "\n",
    "contagem_palavras = {}\n",
    "\n",
    "for palavra in palavras:\n",
    "    if palavra in contagem_palavras:\n",
    "        contagem_palavras[palavra] += 1\n",
    "    else:\n",
    "        contagem_palavras[palavra] = 1\n",
    "\n",
    "print(contagem_palavras)"
   ]
  },
  {
   "cell_type": "markdown",
   "metadata": {},
   "source": [
    "# Exercício 3"
   ]
  },
  {
   "cell_type": "markdown",
   "metadata": {},
   "source": [
    " Dado um parágrafo de avaliações de clientes sobre um produto, conte quantas vezes as palavras \"bom\" e \"ruim\" aparecem. Suponha que o texto seja uma string longa e que \"bom\"/\"ruim\" possam aparecer em diferentes variações de maiúsculas e minúsculas.\n",
    "\n",
    "Restrição: utilize loop `while`.\n",
    "\n",
    "Dica: o método `pop` de listas pode ser útil para este exercício."
   ]
  },
  {
   "cell_type": "code",
   "execution_count": null,
   "metadata": {},
   "outputs": [],
   "source": [
    "paragrafo = \"O produto é muito Bom. Alguns clientes acharam bom, mas outros acharam ruim. Não é tão ruim.\""
   ]
  },
  {
   "cell_type": "code",
   "execution_count": null,
   "metadata": {},
   "outputs": [],
   "source": [
    "novo_paragrafo = paragrafo.casefold().replace('.', '').replace(',', '').split()\n",
    "\n",
    "palavras = {'bom': 0, 'ruim': 0}\n",
    "\n",
    "while novo_paragrafo:\n",
    "    palavra = novo_paragrafo.pop()\n",
    "    if palavra in palavras:\n",
    "        palavras[palavra] += 1\n",
    "\n",
    "print(palavras)"
   ]
  },
  {
   "cell_type": "markdown",
   "metadata": {},
   "source": [
    "## Exercício 4"
   ]
  },
  {
   "cell_type": "markdown",
   "metadata": {},
   "source": [
    "Dada uma lista de valores `valores = [10, 20, 0, -10, 30]`, normalize os valores para que eles estejam no intervalo de 0 a 1."
   ]
  },
  {
   "cell_type": "code",
   "execution_count": null,
   "metadata": {},
   "outputs": [],
   "source": [
    "def normalizar_valor(valor, menor_valor, maior_valor):\n",
    "    return (valor - menor_valor) / (maior_valor - menor_valor)"
   ]
  },
  {
   "cell_type": "code",
   "execution_count": null,
   "metadata": {},
   "outputs": [],
   "source": [
    "valores = [10, 20, 0, -10, 30]\n",
    "\n",
    "menor_valor = min(valores)\n",
    "maior_valor = max(valores)\n",
    "\n",
    "valores_normalizados = [normalizar_valor(valor, menor_valor, maior_valor) for valor in valores]\n",
    "\n",
    "print(valores_normalizados)"
   ]
  },
  {
   "cell_type": "markdown",
   "metadata": {},
   "source": [
    "# Exercício 5\n",
    "\n",
    "Dada uma lista de vendas diárias de uma empresa, `vendas = [1200, 1500, None, 1800, '2000', 'erro']`, calcule a soma total das vendas, ignorando tipos não numéricos quando estes não possam ser transformados em numéricos.\n",
    "\n",
    "Dica: pesquise sobre `continue`."
   ]
  },
  {
   "cell_type": "code",
   "execution_count": null,
   "metadata": {},
   "outputs": [],
   "source": [
    "vendas = [1200, 1500, None, 1800, '2000', 'erro']"
   ]
  },
  {
   "cell_type": "code",
   "execution_count": null,
   "metadata": {},
   "outputs": [],
   "source": [
    "total = 0\n",
    "\n",
    "for venda in vendas:\n",
    "    try:\n",
    "        total += int(venda)\n",
    "    except (TypeError, ValueError):\n",
    "        continue\n",
    "\n",
    "print(total)"
   ]
  },
  {
   "cell_type": "markdown",
   "metadata": {},
   "source": [
    "# Exercício 6\n",
    "\n",
    "Quando estávamos aprendendo dicionários e formatação de strings, desenvolvemos o código da célula a seguir. Simplifique o código com o uso de loop `for`."
   ]
  },
  {
   "cell_type": "code",
   "execution_count": null,
   "metadata": {},
   "outputs": [],
   "source": [
    "pessoas = {\n",
    "    \"bill\": {\"nome\": \"Bill Gates\", \"idade\": 68, \"empresa\": \"Microsoft\"},\n",
    "    \"elon\": {\"nome\": \"Elon Musk\", \"idade\": 52, \"empresa\": \"X\"},\n",
    "    \"mark\": {\"nome\": \"Mark Zuckerberg\", \"idade\": 39, \"empresa\": \"Facebook\"},\n",
    "}\n",
    "\n",
    "print(f\"{'Nome':^16} | {'Idade':^6} | {'Empresa':^15}\")\n",
    "print(f\"{'-'*16} | {'-'*6} | {'-'*15}\")\n",
    "print(f\"{pessoas['bill']['nome']:<16} | {pessoas['bill']['idade']:^6} | {pessoas['bill']['empresa']:>15}\")\n",
    "print(f\"{pessoas['elon']['nome']:<16} | {pessoas['elon']['idade']:^6} | {pessoas['elon']['empresa']:>15}\")\n",
    "print(f\"{pessoas['mark']['nome']:<16} | {pessoas['mark']['idade']:^6} | {pessoas['mark']['empresa']:>15}\")"
   ]
  },
  {
   "cell_type": "code",
   "execution_count": null,
   "metadata": {},
   "outputs": [],
   "source": [
    "pessoas = {\n",
    "    \"bill\": {\"nome\": \"Bill Gates\", \"idade\": 68, \"empresa\": \"Microsoft\"},\n",
    "    \"elon\": {\"nome\": \"Elon Musk\", \"idade\": 52, \"empresa\": \"X\"},\n",
    "    \"mark\": {\"nome\": \"Mark Zuckerberg\", \"idade\": 39, \"empresa\": \"Facebook\"},\n",
    "}\n",
    "\n",
    "print(f\"{'Nome':^16} | {'Idade':^6} | {'Empresa':^15}\")\n",
    "print(f\"{'-'*16} | {'-'*6} | {'-'*15}\")\n",
    "\n",
    "for pessoa, dados in pessoas.items():\n",
    "    nome, idade, empresa = dados.values()\n",
    "\n",
    "    print(f\"{nome:<16} | {idade:^6} | {empresa:>15}\")"
   ]
  }
 ],
 "metadata": {
  "kernelspec": {
   "display_name": "Python 3",
   "language": "python",
   "name": "python3"
  },
  "language_info": {
   "codemirror_mode": {
    "name": "ipython",
    "version": 3
   },
   "file_extension": ".py",
   "mimetype": "text/x-python",
   "name": "python",
   "nbconvert_exporter": "python",
   "pygments_lexer": "ipython3",
   "version": "3.13.0"
  }
 },
 "nbformat": 4,
 "nbformat_minor": 4
}
