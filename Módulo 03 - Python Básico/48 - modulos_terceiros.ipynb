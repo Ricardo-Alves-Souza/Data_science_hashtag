{
 "cells": [
  {
   "cell_type": "markdown",
   "metadata": {},
   "source": [
    "# Módulos de terceiros"
   ]
  },
  {
   "cell_type": "markdown",
   "metadata": {},
   "source": [
    "Módulos de terceiros em Python são bibliotecas ou pacotes que não estão incluídos na biblioteca padrão do Python, mas podem ser adicionados ao seu ambiente de desenvolvimento para estender a funcionalidade do Python. Esses módulos são desenvolvidos e mantidos por uma comunidade ativa de desenvolvedores e podem ser encontrados para uma ampla variedade de aplicações, desde análise de dados até desenvolvimento web.\n"
   ]
  },
  {
   "cell_type": "markdown",
   "metadata": {},
   "source": [
    "## Como Funcionam Módulos de Terceiros\n",
    "\n",
    "1. **Expansão de Capacidades**: Módulos de terceiros oferecem funcionalidades adicionais que não estão disponíveis na biblioteca padrão do Python. Eles permitem que você faça coisas como processamento de imagens, análise estatística avançada, manipulação de documentos, interação com a web, entre outras.\n",
    "\n",
    "2. **Comunidade e Suporte**: Esses módulos geralmente têm uma comunidade ativa que contribui para sua manutenção e melhoria. Muitos são projetos de código aberto onde os usuários podem contribuir com código, relatar bugs e solicitar recursos.\n"
   ]
  },
  {
   "cell_type": "markdown",
   "metadata": {},
   "source": [
    "## Instalando Módulos de Terceiros\n",
    "\n",
    "Procure sempre seguir as instruções da documentação da biblioteca desejada. Por exemplo:\n",
    "\n",
    "- NumPy: https://numpy.org/install/\n",
    "- Pandas: https://pandas.pydata.org/docs/getting_started/install.html\n",
    "- Matplotlib: https://matplotlib.org/stable/users/getting_started/\n",
    "\n",
    "### Intruções Gerais\n",
    "\n",
    "Para instalar módulos de terceiros, o Python utiliza um sistema de gerenciamento de pacotes chamado `pip` (Pip Installs Packages). O `pip` é um padrão de facto para a instalação de pacotes Python e é incluído por padrão nas versões recentes do Python.\n"
   ]
  },
  {
   "cell_type": "markdown",
   "metadata": {},
   "source": [
    "#### Passos para Instalar um Módulo Usando `pip`:\n",
    "\n",
    "1. **Encontre o Nome do Pacote**: Você precisa saber o nome exato do pacote que deseja instalar. Isso geralmente pode ser encontrado na documentação do pacote ou no repositório do pacote no [PyPI (Python Package Index)](https://pypi.org/).\n",
    "\n",
    "2. **Execute o Comando de Instalação**: No terminal ou prompt de comando, digite o seguinte comando, substituindo `nome_do_pacote` pelo nome do pacote que você deseja instalar:\n",
    "\n",
    "   ```bash\n",
    "   pip install nome_do_pacote\n",
    "   ```\n",
    "\n",
    "   Por exemplo, para instalar o famoso pacote de análise de dados `pandas`, você digitaria:\n",
    "\n",
    "   ```bash\n",
    "   pip install pandas\n",
    "   ```\n",
    "\n",
    "3. **Importe o Pacote no Seu Código**: Após a instalação, você pode usar o módulo em seu código Python com uma declaração de importação, como:\n",
    "\n",
    "   ```python\n",
    "   import pandas as pd\n",
    "   ```"
   ]
  },
  {
   "cell_type": "code",
   "execution_count": null,
   "metadata": {},
   "outputs": [],
   "source": [
    "import numpy as np\n",
    "\n",
    "np.array([1, 2, 3])"
   ]
  },
  {
   "cell_type": "code",
   "execution_count": null,
   "metadata": {},
   "outputs": [],
   "source": [
    "import pandas as pd\n",
    "\n",
    "pd.Series([1, 2, 3])"
   ]
  },
  {
   "cell_type": "code",
   "execution_count": null,
   "metadata": {},
   "outputs": [],
   "source": [
    "import matplotlib.pyplot as plt\n",
    "\n",
    "plt.scatter([1, 2, 3], [1, 2, 3])\n",
    "plt.show()"
   ]
  }
 ],
 "metadata": {
  "kernelspec": {
   "display_name": "Python 3 (ipykernel)",
   "language": "python",
   "name": "python3"
  },
  "language_info": {
   "codemirror_mode": {
    "name": "ipython",
    "version": 3
   },
   "file_extension": ".py",
   "mimetype": "text/x-python",
   "name": "python",
   "nbconvert_exporter": "python",
   "pygments_lexer": "ipython3",
   "version": "3.10.13"
  }
 },
 "nbformat": 4,
 "nbformat_minor": 4
}
