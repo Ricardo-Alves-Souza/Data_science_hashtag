{
 "cells": [
  {
   "cell_type": "markdown",
   "metadata": {},
   "source": [
    "# Exercício 1"
   ]
  },
  {
   "cell_type": "markdown",
   "metadata": {},
   "source": [
    "Escreva uma função `aumento_salarial` que recebe o salário atual de um funcionário e a porcentagem de aumento, retornando o novo salário."
   ]
  },
  {
   "cell_type": "code",
   "execution_count": null,
   "metadata": {},
   "outputs": [],
   "source": [
    "def aumento_salario(salario, porcentagem):\n",
    "    ''' Calcula aumento salarial com base em uma porcentagem sobre o salário atual.\n",
    "\n",
    "    Parameters\n",
    "    ----------\n",
    "    salario : int ou float\n",
    "        Salário atual.\n",
    "    porcentagem : int ou float\n",
    "        Porcentagem de aumento.\n",
    "\n",
    "    Returns\n",
    "    ---------\n",
    "    float \n",
    "        Salário com aumento.\n",
    "    '''\n",
    "    if porcentagem > 1:\n",
    "        novo_salario = salario + (salario * (porcentagem / 100))\n",
    "    else:\n",
    "        novo_salario = salario + (salario * porcentagem)\n",
    "    return novo_salario\n",
    "\n",
    "aumento_salario(1000, 0.1)"
   ]
  },
  {
   "cell_type": "markdown",
   "metadata": {},
   "source": [
    "# Exercício 2"
   ]
  },
  {
   "cell_type": "markdown",
   "metadata": {},
   "source": [
    " Crie uma função `normalizar_numeros` que recebe uma lista de números e retorna uma nova lista com os valores normalizados entre 0 e 1."
   ]
  },
  {
   "cell_type": "code",
   "execution_count": null,
   "metadata": {},
   "outputs": [],
   "source": [
    "def normalizar_valor(numeros):\n",
    "    ''' Normaliza uma lista ou tupla de números para o intervalo entre 0 e 1\n",
    "\n",
    "        Parameters\n",
    "        ----------\n",
    "        numeros : list ou tuple de int ou float\n",
    "            itens a serem normalizados\n",
    "\n",
    "        Returns\n",
    "        ---------\n",
    "        list de float \n",
    "            itens normalizados\n",
    "    '''\n",
    "    menor_numero = min(numeros)\n",
    "    maior_numero = max(numeros)\n",
    "\n",
    "    return [(numero - menor_numero) / (maior_numero - menor_numero) for numero in numeros]\n",
    "\n",
    "print(normalizar_valor([10, 20, 0, -10, 30]))\n",
    "\n"
   ]
  },
  {
   "cell_type": "markdown",
   "metadata": {},
   "source": [
    "# Exercício 3"
   ]
  },
  {
   "cell_type": "markdown",
   "metadata": {},
   "source": [
    "Escreva uma função gerar_email_corporativo que recebe um nome completo e retorna um email no formato \"nome.ultimonome@empresa.com\"."
   ]
  },
  {
   "cell_type": "code",
   "execution_count": null,
   "metadata": {},
   "outputs": [],
   "source": [
    "def gerar_email_corporativo(nome_completo):\n",
    "    ''' Cria um email corporativo com o (primeiro_nome.ultimo_sobrenome)\n",
    "\n",
    "        Parameters\n",
    "        ----------\n",
    "        nome_completo : Str\n",
    "            Nome completo do usuário\n",
    "\n",
    "        Returns\n",
    "        ---------\n",
    "        str\n",
    "            E-mail corporativo\n",
    "    '''\n",
    "\n",
    "    nome_completo = nome_completo.casefold().strip().split()\n",
    "    email_corpotativo = nome_completo[0] + '.' +  nome_completo[-1] + '@adm.educadventista.org'\n",
    "    return email_corpotativo\n",
    "\n",
    "nome_completo = str(input('Nome Completo: '))\n",
    "email_corpotativo = gerar_email_corporativo(nome_completo)\n",
    "print(f'E-mail criado: {email_corpotativo}')"
   ]
  },
  {
   "cell_type": "markdown",
   "metadata": {},
   "source": [
    "# Exercício 4"
   ]
  },
  {
   "cell_type": "markdown",
   "metadata": {},
   "source": [
    "Dada uma lista de valores de compras dos clientes, escreva uma função `segmentar_clientes` que classifica cada cliente como 'alto', 'médio' ou 'baixo' valor de compra, baseando-se em limites predefinidos para as segmentações e retorne uma lista de segmentações correspondentes. Assume-se que 'alto' é acima de 500, 'médio' entre 200 e 500, e 'baixo' abaixo de 200."
   ]
  },
  {
   "cell_type": "code",
   "execution_count": null,
   "metadata": {},
   "outputs": [],
   "source": [
    "def segmentar_clientes(valor_compra):\n",
    "    ''' Classifica com cliente entre alto, médio e baixo de acordo com o valor da compra\n",
    "\n",
    "        Parameters\n",
    "        ----------\n",
    "        valor_compra : float ou int\n",
    "            Valor da compra \n",
    "\n",
    "        Returns\n",
    "        ---------\n",
    "        str\n",
    "            Classificação do Cliente\n",
    "    '''\n",
    "\n",
    "    if valor_compra >= 500:\n",
    "        classificacao = 'alto'\n",
    "    elif valor_compra >= 200:\n",
    "        classificacao = 'médio'\n",
    "    else:\n",
    "        classificacao = 'baixo'\n",
    "\n",
    "    return classificacao\n",
    "\n",
    "\n",
    "compras = [100, 250, 550, 150, 450]\n",
    "\n",
    "clientes_segmentados = [segmentar_clientes(valor) for valor in compras]\n",
    "\n",
    "print(clientes_segmentados)\n"
   ]
  },
  {
   "cell_type": "markdown",
   "metadata": {},
   "source": [
    "# Exercício 5"
   ]
  },
  {
   "cell_type": "markdown",
   "metadata": {},
   "source": [
    "Crie uma função `verifica_email` que recebe um email e retorna um booleano a depender se o email tem ou não o domínio \"@empresa.com\".\n",
    "\n",
    "Aplique a função para cada email da lista `emails` e retorne a lista de booleanos correspondentes."
   ]
  },
  {
   "cell_type": "code",
   "execution_count": null,
   "metadata": {},
   "outputs": [],
   "source": [
    "def verifica_email(email):\n",
    "    ''' Verifica se o e-mail pertence ao dominio @empresa.com\n",
    "\n",
    "        Parameters\n",
    "        ----------\n",
    "        email : Str\n",
    "            E-mail do usuário \n",
    "\n",
    "        Returns\n",
    "        ---------\n",
    "        Bool\n",
    "            Retorna True ou False dependendo se o e-mail pertence ou não a empresa\n",
    "    '''\n",
    "    return email.endswith('@empresa.com')\n",
    "\n",
    "emails = ['joao@empresa.com', 'maria@mail.com', 'jose@empresa.com', 'andre@abc.com']\n",
    "\n",
    "emails_verificados = list(map(verifica_email, emails))\n",
    "print(emails_verificados)\n",
    "\n",
    "emails_empresa = list(filter(verifica_email, emails))\n",
    "print(emails_empresa)\n"
   ]
  }
 ],
 "metadata": {
  "kernelspec": {
   "display_name": "Python 3",
   "language": "python",
   "name": "python3"
  },
  "language_info": {
   "codemirror_mode": {
    "name": "ipython",
    "version": 3
   },
   "file_extension": ".py",
   "mimetype": "text/x-python",
   "name": "python",
   "nbconvert_exporter": "python",
   "pygments_lexer": "ipython3",
   "version": "3.13.0"
  }
 },
 "nbformat": 4,
 "nbformat_minor": 4
}
