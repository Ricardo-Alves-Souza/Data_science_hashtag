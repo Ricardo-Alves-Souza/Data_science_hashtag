{
 "cells": [
  {
   "cell_type": "markdown",
   "id": "638a0fa7-68b3-4c7a-b329-c0ed6972fe7b",
   "metadata": {},
   "source": [
    "# Notebook como uma calculadora interativa"
   ]
  },
  {
   "cell_type": "markdown",
   "id": "05a434a6-3d78-4e1d-9930-d0b8317e1c39",
   "metadata": {},
   "source": [
    "## Principais operações"
   ]
  },
  {
   "cell_type": "markdown",
   "id": "da1487c3",
   "metadata": {},
   "source": [
    "Soma = ``2 + 2`` "
   ]
  },
  {
   "cell_type": "markdown",
   "id": "bd33e0f6",
   "metadata": {},
   "source": [
    "Subtração = ``2 - 2``"
   ]
  },
  {
   "cell_type": "markdown",
   "id": "1569217c",
   "metadata": {},
   "source": [
    "Multiplicação = ``2 * 2``"
   ]
  },
  {
   "cell_type": "markdown",
   "id": "c95844e1",
   "metadata": {},
   "source": [
    "Divisão = ``2 / 2`` # Resultado será Float mesmo que os números sejam Int."
   ]
  },
  {
   "cell_type": "markdown",
   "id": "92363a4c",
   "metadata": {},
   "source": [
    "## Ordem das operações"
   ]
  },
  {
   "cell_type": "code",
   "execution_count": null,
   "id": "0a2216d0",
   "metadata": {},
   "outputs": [],
   "source": [
    "2 + 2 * 3"
   ]
  },
  {
   "cell_type": "code",
   "execution_count": null,
   "id": "b47d0218-6121-4995-8659-7313e3e21f55",
   "metadata": {},
   "outputs": [],
   "source": [
    "(2 + 2) * 3"
   ]
  },
  {
   "cell_type": "markdown",
   "id": "bdce1b7b",
   "metadata": {},
   "source": [
    "## Facilitando a leitura de números grandes"
   ]
  },
  {
   "cell_type": "code",
   "execution_count": null,
   "id": "70ab8d62-f22f-4939-b098-79dc183d9384",
   "metadata": {},
   "outputs": [],
   "source": [
    "1_000_000_000"
   ]
  }
 ],
 "metadata": {
  "kernelspec": {
   "display_name": "Python 3",
   "language": "python",
   "name": "python3"
  },
  "language_info": {
   "codemirror_mode": {
    "name": "ipython",
    "version": 3
   },
   "file_extension": ".py",
   "mimetype": "text/x-python",
   "name": "python",
   "nbconvert_exporter": "python",
   "pygments_lexer": "ipython3",
   "version": "3.13.0"
  }
 },
 "nbformat": 4,
 "nbformat_minor": 5
}
