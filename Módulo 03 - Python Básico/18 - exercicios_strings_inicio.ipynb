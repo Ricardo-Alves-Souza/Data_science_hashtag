{
 "cells": [
  {
   "cell_type": "markdown",
   "metadata": {},
   "source": [
    "## Exercício 1: Formatação de Mensagem Corporativa\n",
    "\n",
    "Dado o nome de um funcionário e o mês de referência, crie uma mensagem de e-mail corporativa informando sobre a disponibilidade do contracheque. Utilize f-strings para incluir o nome do funcionário e o mês na mensagem.\n",
    "\n",
    "Modelo da mensagem: \"Prezada Ana Silva, informamos que seu contracheque referente a Setembro está disponível no portal.\""
   ]
  },
  {
   "cell_type": "code",
   "execution_count": null,
   "metadata": {},
   "outputs": [],
   "source": [
    "nome = \"Ana Silva\"\n",
    "mes = \"Setembro\""
   ]
  },
  {
   "cell_type": "markdown",
   "metadata": {},
   "source": [
    "## Exercício 2: Extração de Domínio de Email\n",
    "\n",
    "Dado um email corporativo, extraia o domínio do email (parte após o '@') utilizando métodos de string.\n"
   ]
  },
  {
   "cell_type": "code",
   "execution_count": null,
   "metadata": {},
   "outputs": [],
   "source": [
    "email = \"funcionario@empresa.com\""
   ]
  },
  {
   "cell_type": "markdown",
   "metadata": {},
   "source": [
    "## Exercício 3: Capitalização de Títulos de Projetos\n",
    "\n",
    "Dada uma string representando o nome de um projeto em minúsculas, `nome_projeto = \"implementação de novo sistema de vendas\"`, transforme a primeira letra de cada palavra em maiúscula.\n"
   ]
  },
  {
   "cell_type": "code",
   "execution_count": null,
   "metadata": {},
   "outputs": [],
   "source": [
    "nome_projeto = \"implementação de novo sistema de vendas\""
   ]
  },
  {
   "cell_type": "markdown",
   "metadata": {},
   "source": [
    "## Exercício 4: Verificação de Sufixo de Arquivo\n",
    "\n",
    "Verifique se um nome de arquivo `nome_arquivo = \"relatorio_vendas_final.xlsx\"` termina com a extensão \".xlsx\". Utilize métodos de string adequados.\n"
   ]
  },
  {
   "cell_type": "code",
   "execution_count": null,
   "metadata": {},
   "outputs": [],
   "source": [
    "nome_arquivo = \"relatorio_vendas_final.xlsx\""
   ]
  },
  {
   "cell_type": "markdown",
   "metadata": {},
   "source": [
    "## Exercício 5: Limpeza de Dados de Endereço de Email\n",
    "\n",
    "Dados endereços de email com espaços e letras maiúsculas misturadas, como `email_sujo = \"  Funcionario@Empresa.COM  \"`, limpe o email removendo espaços extras e convertendo tudo para letras minúsculas.\n"
   ]
  },
  {
   "cell_type": "code",
   "execution_count": null,
   "metadata": {},
   "outputs": [],
   "source": [
    "email_sujo = \"  Funcionario@Empresa.COM  \""
   ]
  },
  {
   "cell_type": "markdown",
   "metadata": {},
   "source": [
    "## Exercício 6: Geração de Username\n",
    "\n",
    "Dado o nome completo de um funcionário, gere um username único combinando a primeira letra do primeiro nome com o sobrenome, tudo em minúsculas. Exemplo: \"João Silva\" se torna \"jsilva\".\n"
   ]
  },
  {
   "cell_type": "code",
   "execution_count": null,
   "metadata": {},
   "outputs": [],
   "source": [
    "nome_completo = \"João Silva\""
   ]
  },
  {
   "cell_type": "markdown",
   "metadata": {},
   "source": [
    "## Exercício 7: Mascaramento de Emails\n",
    "\n",
    "Dado um endereço de email, substitua os caracteres antes do \"@\" por asteriscos, exceto os dois primeiros e últimos caracteres. Use métodos de string para construir a nova string.\n",
    "\n",
    "Exemplo: \"funcionario@empresa.com\" se torna \"fu*******io@empresa.com\".\n"
   ]
  },
  {
   "cell_type": "code",
   "execution_count": null,
   "metadata": {},
   "outputs": [],
   "source": [
    "email = \"funcionario@empresa.com\""
   ]
  },
  {
   "cell_type": "markdown",
   "metadata": {},
   "source": [
    "## Exercício 8: Extração de Código de Projeto\n",
    "\n",
    "Dada uma descrição de projeto no formato \"Projeto XYZ: Implementação do Sistema - Código 12345\", extraia o código do projeto que está ao final da string."
   ]
  },
  {
   "cell_type": "code",
   "execution_count": null,
   "metadata": {},
   "outputs": [],
   "source": [
    "descricao_projeto = \"Projeto XYZ: Implementação do Sistema - Código 12345\""
   ]
  },
  {
   "cell_type": "markdown",
   "metadata": {},
   "source": [
    "## Exercício 9: Formatação de Log de Transação\n",
    "\n",
    "Formate logs de transações financeiras para exibir informações de forma legível. Cada log é uma string no formato \"20230915;1000;Transferência Recebida\". Converta para \"Data: 15/09/2023, Valor: R$ 1000, Descrição: Transferência Recebida\".\n"
   ]
  },
  {
   "cell_type": "code",
   "execution_count": null,
   "metadata": {},
   "outputs": [],
   "source": [
    "log = \"20230915;1000;Transferência Recebida\""
   ]
  },
  {
   "cell_type": "markdown",
   "metadata": {},
   "source": [
    "## Exercício 10: Concatenação e Capitalização de Strings em Lista\n",
    "\n",
    "Dada uma lista de palavras `palavras = [\"núcleo\", \"de\", \"dados\"]`, crie uma string que seja a concatenação de todas as palavras com a primeira letra de cada palavra em maiúscula, separadas por espaços.\n",
    "\n",
    "Dica: utilize o método `join()` de strings para concatenar as palavras."
   ]
  },
  {
   "cell_type": "code",
   "execution_count": null,
   "metadata": {},
   "outputs": [],
   "source": [
    "palavras = [\"núcleo\", \"de\", \"dados\"]"
   ]
  }
 ],
 "metadata": {
  "kernelspec": {
   "display_name": "base",
   "language": "python",
   "name": "python3"
  },
  "language_info": {
   "codemirror_mode": {
    "name": "ipython",
    "version": 3
   },
   "file_extension": ".py",
   "mimetype": "text/x-python",
   "name": "python",
   "nbconvert_exporter": "python",
   "pygments_lexer": "ipython3",
   "version": "3.10.13"
  }
 },
 "nbformat": 4,
 "nbformat_minor": 2
}
