{
 "cells": [
  {
   "cell_type": "markdown",
   "metadata": {},
   "source": [
    "# Condicionais em Python"
   ]
  },
  {
   "cell_type": "markdown",
   "metadata": {
    "tags": []
   },
   "source": [
    "## Outros exemplos"
   ]
  },
  {
   "cell_type": "markdown",
   "metadata": {},
   "source": [
    "Nada impede que haja aninhamento de condicionais:"
   ]
  },
  {
   "cell_type": "code",
   "execution_count": null,
   "metadata": {},
   "outputs": [],
   "source": [
    "# Exemplo: classificar uma nota escolar, verificando se é uma nota válida\n",
    "nota = 55\n",
    "\n",
    "if nota < 0 or nota > 100:\n",
    "    print(\"Nota inválida!\")\n",
    "else:\n",
    "    if nota >= 90:\n",
    "        print(\"O conceito é A.\")\n",
    "    elif nota >= 80:\n",
    "        print(\"O conceito é B.\")\n",
    "    elif nota >= 70:\n",
    "        print(\"O conceito é C.\")\n",
    "    elif nota >= 60:\n",
    "        print(\"O conceito é D.\")\n",
    "    else:\n",
    "        print(\"O conceito é F.\")"
   ]
  },
  {
   "cell_type": "markdown",
   "metadata": {},
   "source": [
    "No entanto, não é uma boa prática ter muitos condicionais e aninhamento, por dificultar a legibilidade e manutenção do código. É preferível utilizar outros artifícios da linguagem."
   ]
  }
 ],
 "metadata": {
  "kernelspec": {
   "display_name": "Python 3 (ipykernel)",
   "language": "python",
   "name": "python3"
  },
  "language_info": {
   "codemirror_mode": {
    "name": "ipython",
    "version": 3
   },
   "file_extension": ".py",
   "mimetype": "text/x-python",
   "name": "python",
   "nbconvert_exporter": "python",
   "pygments_lexer": "ipython3",
   "version": "3.10.13"
  },
  "toc-showcode": false,
  "toc-showtags": false
 },
 "nbformat": 4,
 "nbformat_minor": 4
}
