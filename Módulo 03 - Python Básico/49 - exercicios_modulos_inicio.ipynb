{
 "cells": [
  {
   "cell_type": "markdown",
   "metadata": {},
   "source": [
    "# Exercício 1\n",
    "\n",
    "Dado um parágrafo `paragrafo`, conte quantas vezes cada palavra única aparece. Ignore a diferença entre maiúsculas e minúsculas. Encapsule o código em uma função chamada `conta_palavras` que retorna um `Counter` onde as chaves são as palavras únicas e os valores são a quantidade de vezes que a palavra aparece.\n",
    "\n",
    "Dica: pesquise o módulo `collections` e a classe `Counter` presente neste módulo."
   ]
  },
  {
   "cell_type": "code",
   "execution_count": 3,
   "metadata": {},
   "outputs": [],
   "source": [
    "paragrafo = \"Um cientista de dados precisa ter uma boa base técnica. Dados são importantes.\""
   ]
  },
  {
   "cell_type": "code",
   "execution_count": null,
   "metadata": {},
   "outputs": [],
   "source": []
  },
  {
   "cell_type": "markdown",
   "metadata": {},
   "source": [
    "# Exercício 2"
   ]
  },
  {
   "cell_type": "markdown",
   "metadata": {},
   "source": [
    " Gere uma lista de 30 números aleatórios, entre 100 e 2500, representando vendas diárias e calcule a média e a mediana de vendas. Use o módulo `random` e o módulo `statistics`."
   ]
  },
  {
   "cell_type": "code",
   "execution_count": null,
   "metadata": {},
   "outputs": [],
   "source": []
  },
  {
   "cell_type": "markdown",
   "metadata": {},
   "source": [
    "## Exercício 3"
   ]
  },
  {
   "cell_type": "markdown",
   "metadata": {},
   "source": [
    "Escreva uma função gerar_email_corporativo que recebe um nome completo e retorna um email no formato \"nome.ultimonome@empresa.com\". Considere na solução nomes com acentos e espaços."
   ]
  },
  {
   "cell_type": "markdown",
   "metadata": {},
   "source": [
    "Dica: veja o módulo `unidecode` para remover acentos. https://github.com/avian2/unidecode"
   ]
  },
  {
   "cell_type": "code",
   "execution_count": null,
   "metadata": {},
   "outputs": [],
   "source": []
  }
 ],
 "metadata": {
  "kernelspec": {
   "display_name": "base",
   "language": "python",
   "name": "python3"
  },
  "language_info": {
   "codemirror_mode": {
    "name": "ipython",
    "version": 3
   },
   "file_extension": ".py",
   "mimetype": "text/x-python",
   "name": "python",
   "nbconvert_exporter": "python",
   "pygments_lexer": "ipython3",
   "version": "3.11.5"
  }
 },
 "nbformat": 4,
 "nbformat_minor": 2
}
