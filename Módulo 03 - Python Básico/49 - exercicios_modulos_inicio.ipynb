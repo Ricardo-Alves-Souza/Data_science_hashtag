{
 "cells": [
  {
   "cell_type": "markdown",
   "metadata": {},
   "source": [
    "# Exercício 1\n",
    "\n",
    "Dado um parágrafo `paragrafo`, conte quantas vezes cada palavra única aparece. Ignore a diferença entre maiúsculas e minúsculas. Encapsule o código em uma função chamada `conta_palavras` que retorna um `Counter` onde as chaves são as palavras únicas e os valores são a quantidade de vezes que a palavra aparece.\n",
    "\n",
    "Dica: pesquise o módulo `collections` e a classe `Counter` presente neste módulo."
   ]
  },
  {
   "cell_type": "code",
   "execution_count": null,
   "metadata": {},
   "outputs": [],
   "source": [
    "from collections import Counter\n",
    "\n",
    "def formatar_palavras(frase):\n",
    "    frase_split = frase.casefold().replace('.','').replace(',','').strip().split()\n",
    "    return frase_split\n",
    "\n",
    "def conta_palavras(texto):\n",
    "    palavras = formatar_palavras(texto)\n",
    "    conta_palavras = Counter(palavras)\n",
    "\n",
    "    return conta_palavras\n",
    "\n",
    "paragrafo = \"Um cientista de dados precisa ter uma boa base técnica. Dados são importantes.\"\n",
    "\n",
    "conta_palavras(paragrafo)"
   ]
  },
  {
   "cell_type": "markdown",
   "metadata": {},
   "source": [
    "# Exercício 2"
   ]
  },
  {
   "cell_type": "markdown",
   "metadata": {},
   "source": [
    " Gere uma lista de 30 números aleatórios, entre 100 e 2500, representando vendas diárias e calcule a média e a mediana de vendas. Use o módulo `random` e o módulo `statistics`."
   ]
  },
  {
   "cell_type": "code",
   "execution_count": null,
   "metadata": {},
   "outputs": [],
   "source": [
    "from random import randint\n",
    "import statistics\n",
    "\n",
    "numeros = [randint(100, 2500) for _ in range(30)]\n",
    "media = statistics.mean(numeros)\n",
    "mediana = statistics.median(numeros)\n",
    "\n",
    "print(f'Valor médio de vendas: {media:.2f}')\n",
    "print(f'Valor mediano de vendas: {mediana:.2f}')"
   ]
  },
  {
   "cell_type": "markdown",
   "metadata": {},
   "source": [
    "## Exercício 3"
   ]
  },
  {
   "cell_type": "markdown",
   "metadata": {},
   "source": [
    "Escreva uma função gerar_email_corporativo que recebe um nome completo e retorna um email no formato \"nome.ultimonome@empresa.com\". Considere na solução nomes com acentos e espaços."
   ]
  },
  {
   "cell_type": "markdown",
   "metadata": {},
   "source": [
    "Dica: veja o módulo `unidecode` para remover acentos. https://github.com/avian2/unidecode"
   ]
  },
  {
   "cell_type": "code",
   "execution_count": null,
   "metadata": {},
   "outputs": [],
   "source": [
    "from unidecode import unidecode\n",
    "\n",
    "def gerar_email_corporativo():\n",
    "    nome = coletar_nome_completo()\n",
    "    email_corporativo = nome[0] + '.' + nome[-1] + '@adm.educadventista.org'\n",
    "    return email_corporativo\n",
    "    \n",
    "\n",
    "def coletar_nome_completo():\n",
    "    nome_completo = str(input('Nome Completo: ')).casefold()\n",
    "    print(f'Nome Completo: {nome_completo}')\n",
    "    nome_completo = nome_completo.strip()\n",
    "    nome_completo = unidecode(nome_completo)\n",
    "    nome_completo = nome_completo.split()\n",
    "    return nome_completo\n",
    "\n",
    "gerar_email_corporativo()\n"
   ]
  }
 ],
 "metadata": {
  "kernelspec": {
   "display_name": "Python 3",
   "language": "python",
   "name": "python3"
  },
  "language_info": {
   "codemirror_mode": {
    "name": "ipython",
    "version": 3
   },
   "file_extension": ".py",
   "mimetype": "text/x-python",
   "name": "python",
   "nbconvert_exporter": "python",
   "pygments_lexer": "ipython3",
   "version": "3.13.0"
  }
 },
 "nbformat": 4,
 "nbformat_minor": 2
}
