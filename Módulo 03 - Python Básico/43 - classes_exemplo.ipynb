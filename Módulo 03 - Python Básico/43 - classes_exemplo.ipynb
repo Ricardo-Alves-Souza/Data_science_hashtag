{
 "cells": [
  {
   "cell_type": "markdown",
   "metadata": {},
   "source": [
    "# Classes"
   ]
  },
  {
   "cell_type": "markdown",
   "metadata": {},
   "source": [
    "Vamos considerar um exemplo de classe dentro de um contexto de vendas. Imagine que você esteja gerenciando um sistema de vendas para uma loja e precise de uma maneira eficiente de lidar com as informações de cada venda. Uma classe chamada `Venda` pode ser criada para representar cada transação individual.\n",
    "\n",
    "```python\n",
    "class Venda:\n",
    "    def __init__(self, id_venda, produto, quantidade, preco_unitario):\n",
    "        self.id_venda = id_venda\n",
    "        self.produto = produto\n",
    "        self.quantidade = quantidade\n",
    "        self.preco_unitario = preco_unitario\n",
    "\n",
    "    def calcular_total(self):\n",
    "        return self.quantidade * self.preco_unitario\n",
    "\n",
    "    def exibir_resumo(self):\n",
    "        total = self.calcular_total()\n",
    "        print(f\"Venda {self.id_venda}: {self.quantidade}x {self.produto} a R$ {self.preco_unitario} cada. Total: R$ {total}\")\n",
    "```\n",
    "\n",
    "Neste exemplo:\n",
    "\n",
    "- A classe `Venda` tem quatro atributos: `id_venda`, `produto`, `quantidade` e `preco_unitario`.\n",
    "- O método `__init__` é o construtor que inicializa um novo objeto `Venda` com os atributos fornecidos.\n",
    "- `calcular_total` é um método que calcula o valor total da venda.\n",
    "- `exibir_resumo` é um método que imprime um resumo da venda.\n",
    "\n"
   ]
  },
  {
   "cell_type": "code",
   "execution_count": null,
   "metadata": {},
   "outputs": [],
   "source": [
    "class Venda:\n",
    "    \"\"\"Representa vendas de uma loja.\"\"\"\n",
    "\n",
    "    def __init__(self, id_venda, produto, quantidade, preco_unitario):\n",
    "        \"\"\"Inicializa uma nova venda.\n",
    "\n",
    "        Parameters\n",
    "        ----------\n",
    "        id_venda : int\n",
    "            Identificador da venda.\n",
    "        produto : str\n",
    "            Nome do produto.\n",
    "        quantidade : int\n",
    "            Quantidade do produto vendido.\n",
    "        preco_unitario : float\n",
    "            Preço unitário do produto vendido.\n",
    "        \"\"\"\n",
    "        self.id_venda = id_venda\n",
    "        self.produto = produto\n",
    "        self.quantidade = quantidade\n",
    "        self.preco_unitario = preco_unitario\n",
    "\n",
    "    def calcular_total(self):\n",
    "        \"\"\"Calcula o total da venda.\n",
    "\n",
    "        Returns\n",
    "        -------\n",
    "        float\n",
    "            Valor total da venda.\n",
    "        \"\"\"\n",
    "        return self.quantidade * self.preco_unitario\n",
    "\n",
    "    def exibir_resumo(self):\n",
    "        \"\"\"Exibe um resumo da venda com print em formato ID: quantidade produto preço total.\"\"\"\n",
    "        total = self.calcular_total()\n",
    "        print(f\"Venda {self.id_venda}: {self.quantidade}x {self.produto} a R$ {self.preco_unitario} cada. Total: R$ {total}\")"
   ]
  },
  {
   "cell_type": "code",
   "execution_count": null,
   "metadata": {},
   "outputs": [],
   "source": [
    "venda1 = Venda(1, \"Camiseta\", 3, 50.00)\n",
    "venda1"
   ]
  },
  {
   "cell_type": "code",
   "execution_count": null,
   "metadata": {},
   "outputs": [],
   "source": [
    "venda1.id_venda"
   ]
  },
  {
   "cell_type": "code",
   "execution_count": null,
   "metadata": {},
   "outputs": [],
   "source": [
    "venda1.quantidade"
   ]
  },
  {
   "cell_type": "code",
   "execution_count": null,
   "metadata": {},
   "outputs": [],
   "source": [
    "venda1.preco_unitario"
   ]
  },
  {
   "cell_type": "code",
   "execution_count": null,
   "metadata": {},
   "outputs": [],
   "source": [
    "venda1.calcular_total()"
   ]
  },
  {
   "cell_type": "code",
   "execution_count": null,
   "metadata": {},
   "outputs": [],
   "source": [
    "venda1.exibir_resumo()"
   ]
  },
  {
   "cell_type": "code",
   "execution_count": null,
   "metadata": {},
   "outputs": [],
   "source": [
    "venda2 = Venda(2, \"Calça Jeans\", 2, 120.00)\n",
    "venda2"
   ]
  },
  {
   "cell_type": "code",
   "execution_count": null,
   "metadata": {},
   "outputs": [],
   "source": [
    "venda2.exibir_resumo()"
   ]
  }
 ],
 "metadata": {
  "kernelspec": {
   "display_name": "base",
   "language": "python",
   "name": "python3"
  },
  "language_info": {
   "codemirror_mode": {
    "name": "ipython",
    "version": 3
   },
   "file_extension": ".py",
   "mimetype": "text/x-python",
   "name": "python",
   "nbconvert_exporter": "python",
   "pygments_lexer": "ipython3",
   "version": "3.10.13"
  }
 },
 "nbformat": 4,
 "nbformat_minor": 2
}
