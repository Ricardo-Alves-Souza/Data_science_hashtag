{
 "cells": [
  {
   "cell_type": "markdown",
   "metadata": {},
   "source": [
    "# Funções"
   ]
  },
  {
   "cell_type": "markdown",
   "metadata": {},
   "source": [
    "## O que são Funções\n",
    "\n",
    "Uma função é basicamente um bloco de código que é projetado para realizar uma tarefa específica. Você pode pensar em uma função como uma pequena \"fábrica\" que aceita alguns materiais (dados de entrada), realiza um processo (o código dentro da função) e entrega algo no final (um resultado ou saída).\n",
    "\n",
    "## Por que Usar Funções\n",
    "\n",
    "1. **Reutilização de Código**: Se você tem um bloco de código que é usado várias vezes, pode colocá-lo em uma função e chamar essa função sempre que precisar desse código.\n",
    "2. **Organização**: Funções ajudam a organizar o código em partes menores e mais gerenciáveis.\n",
    "3. **Manutenção**: Se você precisar modificar ou corrigir o código, é mais fácil fazer isso em uma função do que procurar várias cópias do mesmo código espalhadas pelo programa.\n",
    "\n",
    "## Como Definir uma Função em Python\n",
    "\n",
    "Em Python, você define uma função usando a palavra-chave `def`, seguida do nome da função e parênteses `()`. Dentro dos parênteses, você pode colocar parâmetros, que são variáveis que a função espera receber quando é chamada. Após os parênteses, coloca-se dois pontos `:` e em seguida o bloco de código indentado que define a operação da função.\n",
    "\n",
    "## Exemplo Simples de uma Função\n",
    "\n",
    "```python\n",
    "def saudar(nome):\n",
    "    print(f\"Olá, {nome}!\")\n",
    "```\n",
    "\n",
    "Neste exemplo, `saudar` é uma função que aceita um parâmetro `nome`. Quando a função é chamada, ela executa o bloco de código, que neste caso é apenas uma linha que imprime uma saudação.\n",
    "\n",
    "## Chamando uma Função\n",
    "\n",
    "Depois de definir uma função, você pode chamá-la usando seu nome seguido de parênteses. Se a função esperar parâmetros, você deve passar os valores correspondentes.\n",
    "\n",
    "```python\n",
    "saudar(\"Maria\")\n",
    "```\n",
    "\n",
    "Esta linha de código chama a função `saudar` que definimos, passando \"Maria\" como argumento. O resultado será a execução da função que, neste caso, imprimirá \"Olá, Maria!\".\n"
   ]
  },
  {
   "cell_type": "markdown",
   "metadata": {},
   "source": [
    "Docstrings\n",
    "\n",
    "Escopo"
   ]
  },
  {
   "cell_type": "code",
   "execution_count": null,
   "metadata": {},
   "outputs": [],
   "source": [
    "def saudar(nome):\n",
    "    \"\"\"Função que saúda uma pessoa\n",
    "\n",
    "    Parameters\n",
    "    ----------\n",
    "    nome : str\n",
    "        Nome da pessoa a ser saudada\n",
    "    \"\"\"\n",
    "\n",
    "    print(f'Olá, {nome}!')"
   ]
  },
  {
   "cell_type": "code",
   "execution_count": null,
   "metadata": {},
   "outputs": [],
   "source": [
    "help(saudar)"
   ]
  },
  {
   "cell_type": "code",
   "execution_count": null,
   "metadata": {},
   "outputs": [],
   "source": [
    "saudar('Maria')"
   ]
  },
  {
   "cell_type": "code",
   "execution_count": null,
   "metadata": {},
   "outputs": [],
   "source": [
    "saudar(\"Francisco\")"
   ]
  },
  {
   "cell_type": "code",
   "execution_count": null,
   "metadata": {},
   "outputs": [],
   "source": [
    "alunos = ['Maria', 'Pedro', 'Carla', 'João']\n",
    "\n",
    "for aluno in alunos:\n",
    "    saudar(aluno)"
   ]
  },
  {
   "cell_type": "code",
   "execution_count": null,
   "metadata": {},
   "outputs": [],
   "source": [
    "variavel = saudar(\"Francisco\")"
   ]
  }
 ],
 "metadata": {
  "kernelspec": {
   "display_name": "Python 3",
   "language": "python",
   "name": "python3"
  },
  "language_info": {
   "codemirror_mode": {
    "name": "ipython",
    "version": 3
   },
   "file_extension": ".py",
   "mimetype": "text/x-python",
   "name": "python",
   "nbconvert_exporter": "python",
   "pygments_lexer": "ipython3",
   "version": "3.13.0"
  }
 },
 "nbformat": 4,
 "nbformat_minor": 4
}
