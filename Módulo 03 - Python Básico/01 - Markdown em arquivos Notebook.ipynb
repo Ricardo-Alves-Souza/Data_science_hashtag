{
 "cells": [
  {
   "cell_type": "markdown",
   "metadata": {},
   "source": [
    "# Título\n",
    "\n",
    "## Título Secundário\n",
    "\n",
    "### Título Terceário\n",
    "\n",
    "Corpo do Texto\n",
    "\n",
    "*Texto tem Itálico*\n",
    "\n",
    "**Texto em Negrito.**\n",
    "\n",
    "- primeiro Item.\n",
    "- Segundo Item.\n",
    "\n",
    "1. Primeiro Item\n",
    "2. Segundo Item"
   ]
  },
  {
   "cell_type": "markdown",
   "metadata": {},
   "source": [
    "abaixo será feita a operação: `2 + 2`"
   ]
  },
  {
   "cell_type": "code",
   "execution_count": null,
   "metadata": {},
   "outputs": [],
   "source": [
    "2 + 2 "
   ]
  },
  {
   "cell_type": "markdown",
   "metadata": {},
   "source": [
    "https://login.educacaoadventista.org.br/\n",
    "\n",
    "\n",
    "[E-class](https://login.educacaoadventista.org.br/)"
   ]
  }
 ],
 "metadata": {
  "kernelspec": {
   "display_name": "Python 3",
   "language": "python",
   "name": "python3"
  },
  "language_info": {
   "codemirror_mode": {
    "name": "ipython",
    "version": 3
   },
   "file_extension": ".py",
   "mimetype": "text/x-python",
   "name": "python",
   "nbconvert_exporter": "python",
   "pygments_lexer": "ipython3",
   "version": "3.13.0"
  }
 },
 "nbformat": 4,
 "nbformat_minor": 2
}
