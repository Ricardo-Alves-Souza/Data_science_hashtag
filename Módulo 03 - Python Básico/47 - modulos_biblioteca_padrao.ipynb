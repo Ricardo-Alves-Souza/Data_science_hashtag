{
 "cells": [
  {
   "cell_type": "markdown",
   "metadata": {},
   "source": [
    "# Biblioteca padrão do Python"
   ]
  },
  {
   "cell_type": "markdown",
   "metadata": {},
   "source": [
    "## Exemplo com `datetime`\n",
    "\n",
    "O módulo `datetime` fornece classes para manipulação de datas e horas de forma simples.\n"
   ]
  },
  {
   "cell_type": "code",
   "execution_count": null,
   "metadata": {},
   "outputs": [],
   "source": [
    "import datetime\n",
    "\n",
    "# Obtendo a data e hora atuais\n",
    "agora = datetime.datetime.now()\n",
    "print(f\"Data e hora atuais: {agora}\")\n",
    "\n",
    "# Criando uma data específica\n",
    "data_nascimento = datetime.datetime(1990, 5, 28)\n",
    "print(f\"Data de nascimento: {data_nascimento.strftime('%d/%m/%Y')}\")\n"
   ]
  },
  {
   "cell_type": "markdown",
   "metadata": {},
   "source": [
    "## Exemplo com `random`\n",
    "\n",
    "O módulo `random` é usado para gerar números aleatórios e realizar escolhas aleatórias.\n"
   ]
  },
  {
   "cell_type": "code",
   "execution_count": null,
   "metadata": {},
   "outputs": [],
   "source": [
    "import random\n",
    "\n",
    "# Gerando um número aleatório entre 1 e 10\n",
    "numero_aleatorio = random.randint(1, 10)\n",
    "print(f\"Número aleatório entre 1 e 10: {numero_aleatorio}\")\n",
    "\n",
    "# Escolhendo aleatoriamente de uma lista\n",
    "cores = ['vermelho', 'azul', 'verde', 'amarelo']\n",
    "cor_escolhida = random.choice(cores)\n",
    "print(f\"Cor escolhida: {cor_escolhida}\")\n"
   ]
  },
  {
   "cell_type": "markdown",
   "metadata": {},
   "source": [
    "## Exemplo com `os`\n",
    "\n",
    "O módulo `os` fornece uma maneira portátil de usar funcionalidades dependentes do sistema operacional, como percorrer diretórios ou manipular caminhos de arquivos.\n"
   ]
  },
  {
   "cell_type": "code",
   "execution_count": null,
   "metadata": {},
   "outputs": [],
   "source": [
    "import os\n",
    "\n",
    "# Obtendo o diretório de trabalho atual\n",
    "diretorio_atual = os.getcwd()\n",
    "print(f\"Diretório de trabalho atual: {diretorio_atual}\")\n",
    "\n",
    "# Listando arquivos em um diretório\n",
    "for arquivo in os.listdir(diretorio_atual):\n",
    "    print(arquivo)\n"
   ]
  },
  {
   "cell_type": "markdown",
   "metadata": {},
   "source": [
    "## Mais exemplos\n",
    "\n",
    "https://docs.python.org/3/library/index.html"
   ]
  }
 ],
 "metadata": {
  "kernelspec": {
   "display_name": "base",
   "language": "python",
   "name": "python3"
  },
  "language_info": {
   "codemirror_mode": {
    "name": "ipython",
    "version": 3
   },
   "file_extension": ".py",
   "mimetype": "text/x-python",
   "name": "python",
   "nbconvert_exporter": "python",
   "pygments_lexer": "ipython3",
   "version": "3.10.13"
  }
 },
 "nbformat": 4,
 "nbformat_minor": 2
}
