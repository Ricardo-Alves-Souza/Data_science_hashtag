{
 "cells": [
  {
   "cell_type": "markdown",
   "metadata": {},
   "source": [
    "# Loop while"
   ]
  },
  {
   "cell_type": "markdown",
   "metadata": {},
   "source": [
    "O loop `while` em Python é uma estrutura de controle que permite executar repetidamente um bloco de código enquanto uma determinada condição é verdadeira.\n",
    "\n",
    "1. **Conceito Básico**: O loop `while` continua a executar um bloco de código enquanto a condição especificada no início do loop permanecer verdadeira. Assim que essa condição se torna falsa, o loop é encerrado e o programa continua com a próxima linha de código após o bloco do loop.\n",
    "\n",
    "2. **Sintaxe do Loop While**:\n",
    "   ```python\n",
    "   while condição:\n",
    "       # Bloco de código a ser executado\n",
    "   ```\n",
    "   Aqui, `condição` é uma expressão que resulta em `True` ou `False`. Enquanto for `True`, o bloco de código dentro do loop continuará a ser executado.\n",
    "\n",
    "3. **Exemplo Prático**: Suponha que você esteja gerenciando um inventário e queira reduzir a quantidade de um produto específico até que ele atinja um certo nível mínimo.\n",
    "\n",
    "<br>\n",
    "\n",
    "   ```python\n",
    "   quantidade = 10\n",
    "   quantidade_minima = 5\n",
    "\n",
    "   while quantidade > quantidade_minima:\n",
    "       print(\"Produto no estoque:\", quantidade)\n",
    "       # Imagine que aqui ocorre uma venda\n",
    "       quantidade -= 1  # Isso reduz a quantidade em 1\n",
    "\n",
    "   print(\"Precisamos reabastecer o estoque!\")\n",
    "   ```\n",
    "\n",
    "<br>\n",
    "\n",
    "   Neste exemplo, o loop `while` continuará a executar enquanto a quantidade de produtos em estoque for maior que a quantidade mínima. A cada iteração do loop, a quantidade é reduzida em 1. Quando a quantidade atinge 5, a condição do loop se torna falsa (`quantidade > quantidade_minima` é `False`), e o loop termina.\n"
   ]
  },
  {
   "cell_type": "code",
   "execution_count": null,
   "metadata": {},
   "outputs": [],
   "source": [
    "quantidade = 10\n",
    "quantidade_minima = 5\n",
    "\n",
    "while quantidade > quantidade_minima:\n",
    "    print(\"Produto no estoque:\", quantidade)\n",
    "    \n",
    "    # Imagine que aqui ocorre uma venda\n",
    "    \n",
    "    quantidade -= 1  # Isso reduz a quantidade em 1\n",
    "\n",
    "# O programa continua...\n",
    "\n",
    "print(\"Precisamos reabastecer o estoque!\")"
   ]
  },
  {
   "cell_type": "markdown",
   "metadata": {},
   "source": [
    "4. **Cuidados Importantes**:\n",
    "   - **Condição de Saída**: É crucial que o loop `while` tenha uma condição que eventualmente se torne falsa. Caso contrário, você pode acabar com um loop infinito, onde o código nunca sai do loop.\n",
    "   - **Alteração da Condição Dentro do Loop**: Dentro do loop, você deve alterar uma ou mais variáveis que afetam a condição do loop. Se a condição nunca mudar, o loop nunca terminará.\n",
    "\n",
    "5. **Quando usar**: O loop `while` é especialmente útil quando você não sabe de antemão quantas vezes precisa executar o loop, mas sabe sob quais condições o loop deve continuar ou parar."
   ]
  }
 ],
 "metadata": {
  "kernelspec": {
   "display_name": "Python 3 (ipykernel)",
   "language": "python",
   "name": "python3"
  },
  "language_info": {
   "codemirror_mode": {
    "name": "ipython",
    "version": 3
   },
   "file_extension": ".py",
   "mimetype": "text/x-python",
   "name": "python",
   "nbconvert_exporter": "python",
   "pygments_lexer": "ipython3",
   "version": "3.10.13"
  }
 },
 "nbformat": 4,
 "nbformat_minor": 4
}
