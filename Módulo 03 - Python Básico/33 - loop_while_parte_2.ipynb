{
 "cells": [
  {
   "cell_type": "markdown",
   "metadata": {},
   "source": [
    "## Exemplo 1"
   ]
  },
  {
   "cell_type": "markdown",
   "metadata": {},
   "source": [
    "Uma empresa deseja monitorar se a meta de vendas mensal de `R$50.000` foi alcançada. À medida que as vendas são registradas, a partir de input do usuário, o sistema deve atualizar e verificar se a meta foi atingida."
   ]
  },
  {
   "cell_type": "code",
   "execution_count": null,
   "metadata": {},
   "outputs": [],
   "source": [
    "meta_vendas = 50000\n",
    "vendas_atual = 0\n",
    "\n",
    "while vendas_atual < meta_vendas:\n",
    "    nova_venda = float(input(\"Digite o valor da nova venda: R$\"))\n",
    "    vendas_atual += nova_venda\n",
    "    print(f\"Total de vendas atual: R${vendas_atual:.2f}\")\n",
    "\n",
    "print(\"Meta de vendas alcançada!\")\n"
   ]
  },
  {
   "cell_type": "markdown",
   "metadata": {},
   "source": [
    "## Exemplo 2"
   ]
  },
  {
   "cell_type": "markdown",
   "metadata": {},
   "source": [
    "Em um sistema empresarial, o acesso a uma área restrita exige a inserção de uma senha correta. O usuário tem 3 tentativas para inserir a senha corretamente."
   ]
  },
  {
   "cell_type": "code",
   "execution_count": null,
   "metadata": {},
   "outputs": [],
   "source": [
    "senha_correta = \"acesso2024\"\n",
    "tentativas = 3\n",
    "\n",
    "while tentativas > 0:\n",
    "    senha = input(\"Digite a senha para acesso: \")\n",
    "    if senha == senha_correta:\n",
    "        print(\"Acesso permitido.\")\n",
    "        break\n",
    "    else:\n",
    "        tentativas -= 1\n",
    "        print(f\"Senha incorreta. Você tem {tentativas} tentativa(s) restante(s).\")\n",
    "\n",
    "if tentativas == 0:\n",
    "    print(\"Acesso bloqueado.\")\n",
    "else:\n",
    "    print(\"Estou dentro do sistema.\")\n"
   ]
  }
 ],
 "metadata": {
  "kernelspec": {
   "display_name": "Python 3",
   "language": "python",
   "name": "python3"
  },
  "language_info": {
   "codemirror_mode": {
    "name": "ipython",
    "version": 3
   },
   "file_extension": ".py",
   "mimetype": "text/x-python",
   "name": "python",
   "nbconvert_exporter": "python",
   "pygments_lexer": "ipython3",
   "version": "3.13.0"
  }
 },
 "nbformat": 4,
 "nbformat_minor": 4
}
