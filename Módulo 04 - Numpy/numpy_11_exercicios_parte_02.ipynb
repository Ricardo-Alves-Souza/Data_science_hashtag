{
 "cells": [
  {
   "cell_type": "markdown",
   "metadata": {},
   "source": [
    "## Exercício\n",
    "\n",
    "Você é um analista de dados em uma empresa e conduziu uma pesquisa de satisfação do cliente durante uma semana. Você perguntou as clientes para classificar seu nível de satisfação com o serviço ao cliente em uma escala de 0 a 10. Você coletou respostas de 30 clientes por dia durante 7 dias, resultando em um total de 210 respostas.\n",
    "\n",
    "No entanto, os dados que você recebeu estão em um array 1D de 210 elementos. Reorganize os dados de forma a ter as respostas por dia e faça uma análise descritiva básica, calculando a média geral de satisfação e a média diária."
   ]
  },
  {
   "cell_type": "code",
   "execution_count": null,
   "metadata": {
    "ExecuteTime": {
     "end_time": "2023-07-03T12:12:12.700234800Z",
     "start_time": "2023-07-03T12:12:12.677347900Z"
    },
    "collapsed": false,
    "jupyter": {
     "outputs_hidden": false
    }
   },
   "outputs": [],
   "source": [
    "import numpy as np\n",
    "\n",
    "# considere os seguintes dados aleatórios como início\n",
    "rng = np.random.default_rng(seed=42)\n",
    "respostas = rng.integers(low=0, high=10, size=210, endpoint=True)\n",
    "\n",
    "respostas_reshape = np.reshape(respostas, (7, 30))\n",
    "\n",
    "media_geral_de_satisfacao = np.mean(respostas_reshape)\n",
    "mediana_geral_de_satisfacao = np.median(respostas_reshape)\n",
    "std_geral_de_satisfacao = np.std(respostas_reshape)\n",
    "\n",
    "\n",
    "print(f'Média Geral de Satisfação: Nota {media_geral_de_satisfacao:.2f}')\n",
    "print(f'Mediana Geral de Satisfação: Nota {mediana_geral_de_satisfacao:.2f}')\n",
    "print(f'Desvio Padrão Geral de Satisfação: Nota {std_geral_de_satisfacao:.2f}')\n",
    "print('-' * 45)\n",
    "\n",
    "\n",
    "media_de_satisfacao_por_dia = np.mean(respostas_reshape, axis= 1)\n",
    "for i, nota in enumerate(media_de_satisfacao_por_dia):\n",
    "    print(f'Média de Satisfação do {i + 1}° dia: Nota {nota:.2f}')"
   ]
  },
  {
   "cell_type": "markdown",
   "metadata": {},
   "source": [
    "O seguinte modelo pode ser pensado para os dados recebidos:\n",
    "\n",
    "    dia 1 cliente 1, dia 1 cliente 2, dia 1 cliente 3, ...\n",
    "    ... dia 7 cliente 28, dia 7 cliente 29, dia 7 cliente 30\n",
    "    \n",
    "Assim, podemos fazer um reshape:"
   ]
  }
 ],
 "metadata": {
  "kernelspec": {
   "display_name": "Python 3",
   "language": "python",
   "name": "python3"
  },
  "language_info": {
   "codemirror_mode": {
    "name": "ipython",
    "version": 3
   },
   "file_extension": ".py",
   "mimetype": "text/x-python",
   "name": "python",
   "nbconvert_exporter": "python",
   "pygments_lexer": "ipython3",
   "version": "3.13.0"
  }
 },
 "nbformat": 4,
 "nbformat_minor": 4
}
