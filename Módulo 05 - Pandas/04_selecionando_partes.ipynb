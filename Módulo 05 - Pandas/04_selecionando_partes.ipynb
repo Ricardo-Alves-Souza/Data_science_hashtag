{
 "cells": [
  {
   "cell_type": "markdown",
   "metadata": {},
   "source": [
    "# Pandas básico"
   ]
  },
  {
   "cell_type": "code",
   "execution_count": null,
   "metadata": {},
   "outputs": [],
   "source": [
    "import pandas as pd\n",
    "\n",
    "BASE = \"dados/cereal.csv\""
   ]
  },
  {
   "cell_type": "markdown",
   "metadata": {},
   "source": [
    "A base Cereal fornece dados de diversos cereais disponíveis nos Estados Unidos no início da década de 90. Os dados são retirados do site da [Kaggle](https://www.kaggle.com/crawford/80-cereals). O arquivo `cereal.csv` contém os dados de 77 cereais, com as seguintes variáveis:\n",
    "\n",
    "- `name`: Nome do cereal\n",
    "- `mfr`: Fabricante do cereal\n",
    "    - A = American Home Food Products;\n",
    "    - G = General Mills\n",
    "    - K = Kelloggs\n",
    "    - N = Nabisco\n",
    "    - P = Post\n",
    "    - Q = Quaker Oats\n",
    "    - R = Ralston Purina\n",
    "- `type`: Tipo de cereal\n",
    "    - C - cold\n",
    "    - H - hot\n",
    "- `calories`: Calorias por porção\n",
    "- `protein`: Gramas de proteína\n",
    "- `fat`: Gramas de gordura\n",
    "- `sodium`: Miligramas de sódio\n",
    "- `fiber`: Gramas de fibra dietética\n",
    "- `carbo`: Gramas de carboidratos\n",
    "- `sugars`: Gramas de açúcar\n",
    "- `potass`: Miligramas de potássio\n",
    "- `vitamins`: Vitaminas e minerais - 0, 25, ou 100, indicando a porcentagem recomendada diariamente\n",
    "- `shelf`: Localização do produto no supermercado (prateleira 1, 2, ou 3, contando do chão)\n",
    "- `weight`: Peso em onças da porção\n",
    "- `cups`: Número de copos em uma porção\n",
    "- `rating`: Classificação do cereal (consumidores)\n",
    "\n"
   ]
  },
  {
   "cell_type": "code",
   "execution_count": null,
   "metadata": {},
   "outputs": [],
   "source": [
    "df = pd.read_csv(BASE)"
   ]
  },
  {
   "cell_type": "markdown",
   "metadata": {},
   "source": [
    "Diferença entre `iloc` e `loc`:\n",
    "\n",
    "- `iloc` seleciona linhas e colunas por índice\n",
    "- `loc` seleciona linhas e colunas por nome"
   ]
  },
  {
   "cell_type": "code",
   "execution_count": null,
   "metadata": {},
   "outputs": [],
   "source": [
    "df.iloc[1:5]"
   ]
  },
  {
   "cell_type": "code",
   "execution_count": null,
   "metadata": {},
   "outputs": [],
   "source": [
    "df.iloc[:20:2, :7]"
   ]
  },
  {
   "cell_type": "code",
   "execution_count": null,
   "metadata": {},
   "outputs": [],
   "source": [
    "df.loc[1:5]"
   ]
  },
  {
   "cell_type": "code",
   "execution_count": null,
   "metadata": {},
   "outputs": [],
   "source": [
    "df.loc[:20:2, ['name', 'shelf' ,'rating']]"
   ]
  },
  {
   "cell_type": "code",
   "execution_count": null,
   "metadata": {},
   "outputs": [],
   "source": [
    "df[df['rating'] > 70]"
   ]
  },
  {
   "cell_type": "code",
   "execution_count": null,
   "metadata": {},
   "outputs": [],
   "source": [
    "df[df['rating'] > 70][['name','shelf', 'rating']]"
   ]
  },
  {
   "cell_type": "code",
   "execution_count": null,
   "metadata": {},
   "outputs": [],
   "source": [
    "df[df['name'] ==  'Almond Delight']"
   ]
  },
  {
   "cell_type": "code",
   "execution_count": null,
   "metadata": {},
   "outputs": [],
   "source": [
    "df[df['mfr'] == 'N'].describe()"
   ]
  },
  {
   "cell_type": "code",
   "execution_count": null,
   "metadata": {},
   "outputs": [],
   "source": [
    "with pd.option_context('float_format', '{:.2f}'.format):\n",
    "    display(df[df['mfr'] == 'N'].describe())"
   ]
  },
  {
   "cell_type": "code",
   "execution_count": null,
   "metadata": {},
   "outputs": [],
   "source": [
    "df[~(df['type'] == 'H') & (df['mfr'] == \"N\")]"
   ]
  },
  {
   "cell_type": "code",
   "execution_count": null,
   "metadata": {},
   "outputs": [],
   "source": [
    "df[(df['type'] == 'H') | (df['mfr'] == \"N\")]"
   ]
  },
  {
   "cell_type": "code",
   "execution_count": null,
   "metadata": {},
   "outputs": [],
   "source": [
    "df[df['mfr'].isin(['R', 'N', 'A'])]"
   ]
  },
  {
   "cell_type": "code",
   "execution_count": null,
   "metadata": {},
   "outputs": [],
   "source": [
    "df[(df['carbo'] == -1) | (df['sugars'] == -1) | (df['potass'] == -1)]"
   ]
  },
  {
   "cell_type": "code",
   "execution_count": null,
   "metadata": {},
   "outputs": [],
   "source": [
    "df[df['rating'] == df['rating'].max()]"
   ]
  },
  {
   "cell_type": "code",
   "execution_count": null,
   "metadata": {},
   "outputs": [],
   "source": [
    "df['rating'].idxmax()"
   ]
  },
  {
   "cell_type": "code",
   "execution_count": null,
   "metadata": {},
   "outputs": [],
   "source": [
    "df.loc[[df['rating'].idxmax()]]"
   ]
  },
  {
   "cell_type": "code",
   "execution_count": null,
   "metadata": {},
   "outputs": [],
   "source": [
    "df.loc[[df['rating'].idxmin()]]"
   ]
  }
 ],
 "metadata": {
  "kernelspec": {
   "display_name": "Python 3",
   "language": "python",
   "name": "python3"
  },
  "language_info": {
   "codemirror_mode": {
    "name": "ipython",
    "version": 3
   },
   "file_extension": ".py",
   "mimetype": "text/x-python",
   "name": "python",
   "nbconvert_exporter": "python",
   "pygments_lexer": "ipython3",
   "version": "3.13.0"
  }
 },
 "nbformat": 4,
 "nbformat_minor": 2
}
