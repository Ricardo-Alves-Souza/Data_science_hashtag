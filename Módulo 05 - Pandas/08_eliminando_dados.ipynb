{
 "cells": [
  {
   "cell_type": "markdown",
   "metadata": {},
   "source": [
    "# Pandas básico"
   ]
  },
  {
   "cell_type": "code",
   "execution_count": null,
   "metadata": {},
   "outputs": [],
   "source": [
    "import pandas as pd\n",
    "\n",
    "BASE = \"dados/cereal.csv\"\n",
    "\n",
    "df = pd.read_csv(BASE)\n",
    "\n",
    "df.head()"
   ]
  },
  {
   "cell_type": "code",
   "execution_count": null,
   "metadata": {},
   "outputs": [],
   "source": [
    "# criando novo dataframe eliminando coluna type\n",
    "df_sem_type = df.drop(columns=['type'])\n",
    "df_sem_type.info()\n",
    "df_sem_type.head()"
   ]
  },
  {
   "cell_type": "code",
   "execution_count": null,
   "metadata": {},
   "outputs": [],
   "source": [
    "# maneira 1\n",
    "\n",
    "df_sem_negativos = df.query(\"carbo != -1 and sugars != -1 and potass != -1\")\n",
    "display(df_sem_negativos.describe().round(2))\n",
    "display(df_sem_negativos.info())"
   ]
  },
  {
   "cell_type": "code",
   "execution_count": null,
   "metadata": {},
   "outputs": [],
   "source": [
    "# maneira 2\n",
    "\n",
    "df_sem_negativos = df[(df['carbo'] != 1) & (df['sugars'] != -1) & (df['potass'] != -1)]\n",
    "display(df_sem_negativos.describe().round(2))\n",
    "display(df_sem_negativos.info())"
   ]
  },
  {
   "cell_type": "code",
   "execution_count": null,
   "metadata": {},
   "outputs": [],
   "source": [
    "# maneira 3\n",
    "\n",
    "df_sem_negativos = df[~((df['carbo'] == -1) | (df['sugars'] == -1) | (df['potass'] == -1))]\n",
    "display(df_sem_negativos.describe().round(2))\n",
    "display(df_sem_negativos.info())"
   ]
  },
  {
   "cell_type": "code",
   "execution_count": null,
   "metadata": {},
   "outputs": [],
   "source": [
    "df_sem_negativos.reset_index(drop=True)"
   ]
  }
 ],
 "metadata": {
  "kernelspec": {
   "display_name": "Python 3",
   "language": "python",
   "name": "python3"
  },
  "language_info": {
   "codemirror_mode": {
    "name": "ipython",
    "version": 3
   },
   "file_extension": ".py",
   "mimetype": "text/x-python",
   "name": "python",
   "nbconvert_exporter": "python",
   "pygments_lexer": "ipython3",
   "version": "3.13.0"
  }
 },
 "nbformat": 4,
 "nbformat_minor": 2
}
